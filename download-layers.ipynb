{
 "cells": [
  {
   "cell_type": "markdown",
   "metadata": {},
   "source": [
    "# New York City Flood Layers Download in Python\n",
    "Author: Mark Bauer"
   ]
  },
  {
   "cell_type": "code",
   "execution_count": 1,
   "metadata": {},
   "outputs": [],
   "source": [
    "# importing libraries\n",
    "import os\n",
    "import numpy as np\n",
    "import pandas as pd\n",
    "import geopandas as gpd\n",
    "import urllib\n",
    "import urllib.request\n",
    "import requests\n",
    "import zipfile\n",
    "from zipfile import ZipFile"
   ]
  },
  {
   "cell_type": "code",
   "execution_count": 2,
   "metadata": {},
   "outputs": [
    {
     "name": "stdout",
     "output_type": "stream",
     "text": [
      "printing packages and versions:\n",
      "\n",
      "Python implementation: CPython\n",
      "Python version       : 3.8.13\n",
      "IPython version      : 8.4.0\n",
      "\n",
      "numpy    : 1.23.1\n",
      "pandas   : 1.4.3\n",
      "geopandas: 0.11.1\n",
      "\n"
     ]
    }
   ],
   "source": [
    "print('printing packages and versions:\\n')\n",
    "\n",
    "%reload_ext watermark\n",
    "%watermark -v -p numpy,pandas,geopandas"
   ]
  },
  {
   "cell_type": "code",
   "execution_count": 3,
   "metadata": {},
   "outputs": [
    {
     "name": "stdout",
     "output_type": "stream",
     "text": [
      "mkdir: data/: File exists\r\n"
     ]
    }
   ],
   "source": [
    "# make directories\n",
    "!mkdir data/"
   ]
  },
  {
   "cell_type": "markdown",
   "metadata": {},
   "source": [
    "# Sandy Inundation Zone\n",
    "https://data.cityofnewyork.us/Environment/Sandy-Inundation-Zone/uyj8-7rv5\n",
    "\n",
    "![sandy-zone](images/sandy-zone.png)"
   ]
  },
  {
   "cell_type": "code",
   "execution_count": 4,
   "metadata": {},
   "outputs": [
    {
     "name": "stdout",
     "output_type": "stream",
     "text": [
      "sandy-inundation.zip\r\n"
     ]
    }
   ],
   "source": [
    "# download url of dataset\n",
    "url = 'https://data.cityofnewyork.us/api/geospatial/uyj8-7rv5?method=export&format=Shapefile'\n",
    "data = 'data/'\n",
    "\n",
    "fullfilename = os.path.join(data, 'sandy-inundation.zip')\n",
    "urllib.request.urlretrieve(url, fullfilename)\n",
    "\n",
    "%ls data/"
   ]
  },
  {
   "cell_type": "code",
   "execution_count": 5,
   "metadata": {},
   "outputs": [
    {
     "name": "stdout",
     "output_type": "stream",
     "text": [
      "shape of data: (492, 8)\n"
     ]
    },
    {
     "data": {
      "text/html": [
       "<div>\n",
       "<style scoped>\n",
       "    .dataframe tbody tr th:only-of-type {\n",
       "        vertical-align: middle;\n",
       "    }\n",
       "\n",
       "    .dataframe tbody tr th {\n",
       "        vertical-align: top;\n",
       "    }\n",
       "\n",
       "    .dataframe thead th {\n",
       "        text-align: right;\n",
       "    }\n",
       "</style>\n",
       "<table border=\"1\" class=\"dataframe\">\n",
       "  <thead>\n",
       "    <tr style=\"text-align: right;\">\n",
       "      <th></th>\n",
       "      <th>comments</th>\n",
       "      <th>demsource</th>\n",
       "      <th>id</th>\n",
       "      <th>sourcedata</th>\n",
       "      <th>state</th>\n",
       "      <th>status</th>\n",
       "      <th>verified</th>\n",
       "      <th>geometry</th>\n",
       "    </tr>\n",
       "  </thead>\n",
       "  <tbody>\n",
       "    <tr>\n",
       "      <th>0</th>\n",
       "      <td>Surge extent clipped to 1000ft HSIP buffer</td>\n",
       "      <td>New York City OEM 1-meter</td>\n",
       "      <td>0.0</td>\n",
       "      <td>USGS Mission Assignment/HWM/Surge Sensor Data ...</td>\n",
       "      <td>New York</td>\n",
       "      <td>Final Field-Verified High Resolution</td>\n",
       "      <td>Yes</td>\n",
       "      <td>POLYGON ((-74.23650 40.51920, -74.23651 40.519...</td>\n",
       "    </tr>\n",
       "    <tr>\n",
       "      <th>1</th>\n",
       "      <td>Surge extent clipped to 1000ft HSIP buffer</td>\n",
       "      <td>New York City OEM 1-meter</td>\n",
       "      <td>0.0</td>\n",
       "      <td>USGS Mission Assignment/HWM/Surge Sensor Data ...</td>\n",
       "      <td>New York</td>\n",
       "      <td>Final Field-Verified High Resolution</td>\n",
       "      <td>Yes</td>\n",
       "      <td>POLYGON ((-74.12753 40.54636, -74.12752 40.546...</td>\n",
       "    </tr>\n",
       "    <tr>\n",
       "      <th>2</th>\n",
       "      <td>Surge extent clipped to 1000ft HSIP buffer</td>\n",
       "      <td>New York City OEM 1-meter</td>\n",
       "      <td>0.0</td>\n",
       "      <td>USGS Mission Assignment/HWM/Surge Sensor Data ...</td>\n",
       "      <td>New York</td>\n",
       "      <td>Final Field-Verified High Resolution</td>\n",
       "      <td>Yes</td>\n",
       "      <td>POLYGON ((-73.91067 40.60621, -73.91068 40.606...</td>\n",
       "    </tr>\n",
       "    <tr>\n",
       "      <th>3</th>\n",
       "      <td>Surge extent clipped to 1000ft HSIP buffer</td>\n",
       "      <td>New York City OEM 1-meter</td>\n",
       "      <td>0.0</td>\n",
       "      <td>USGS Mission Assignment/HWM/Surge Sensor Data ...</td>\n",
       "      <td>New York</td>\n",
       "      <td>Final Field-Verified High Resolution</td>\n",
       "      <td>Yes</td>\n",
       "      <td>POLYGON ((-74.03144 40.60591, -74.03145 40.605...</td>\n",
       "    </tr>\n",
       "    <tr>\n",
       "      <th>4</th>\n",
       "      <td>Surge extent clipped to 1000ft HSIP buffer</td>\n",
       "      <td>New York City OEM 1-meter</td>\n",
       "      <td>0.0</td>\n",
       "      <td>USGS Mission Assignment/HWM/Surge Sensor Data ...</td>\n",
       "      <td>New York</td>\n",
       "      <td>Final Field-Verified High Resolution</td>\n",
       "      <td>Yes</td>\n",
       "      <td>POLYGON ((-73.98105 40.60790, -73.98104 40.607...</td>\n",
       "    </tr>\n",
       "  </tbody>\n",
       "</table>\n",
       "</div>"
      ],
      "text/plain": [
       "                                     comments                  demsource   id  \\\n",
       "0  Surge extent clipped to 1000ft HSIP buffer  New York City OEM 1-meter  0.0   \n",
       "1  Surge extent clipped to 1000ft HSIP buffer  New York City OEM 1-meter  0.0   \n",
       "2  Surge extent clipped to 1000ft HSIP buffer  New York City OEM 1-meter  0.0   \n",
       "3  Surge extent clipped to 1000ft HSIP buffer  New York City OEM 1-meter  0.0   \n",
       "4  Surge extent clipped to 1000ft HSIP buffer  New York City OEM 1-meter  0.0   \n",
       "\n",
       "                                          sourcedata     state  \\\n",
       "0  USGS Mission Assignment/HWM/Surge Sensor Data ...  New York   \n",
       "1  USGS Mission Assignment/HWM/Surge Sensor Data ...  New York   \n",
       "2  USGS Mission Assignment/HWM/Surge Sensor Data ...  New York   \n",
       "3  USGS Mission Assignment/HWM/Surge Sensor Data ...  New York   \n",
       "4  USGS Mission Assignment/HWM/Surge Sensor Data ...  New York   \n",
       "\n",
       "                                 status verified  \\\n",
       "0  Final Field-Verified High Resolution      Yes   \n",
       "1  Final Field-Verified High Resolution      Yes   \n",
       "2  Final Field-Verified High Resolution      Yes   \n",
       "3  Final Field-Verified High Resolution      Yes   \n",
       "4  Final Field-Verified High Resolution      Yes   \n",
       "\n",
       "                                            geometry  \n",
       "0  POLYGON ((-74.23650 40.51920, -74.23651 40.519...  \n",
       "1  POLYGON ((-74.12753 40.54636, -74.12752 40.546...  \n",
       "2  POLYGON ((-73.91067 40.60621, -73.91068 40.606...  \n",
       "3  POLYGON ((-74.03144 40.60591, -74.03145 40.605...  \n",
       "4  POLYGON ((-73.98105 40.60790, -73.98104 40.607...  "
      ]
     },
     "execution_count": 5,
     "metadata": {},
     "output_type": "execute_result"
    }
   ],
   "source": [
    "path = 'data/sandy-inundation.zip'\n",
    "sandy_gdf = gpd.read_file(path)\n",
    "\n",
    "print('shape of data: {}'.format(sandy_gdf.shape))\n",
    "sandy_gdf.head()"
   ]
  },
  {
   "cell_type": "code",
   "execution_count": 6,
   "metadata": {},
   "outputs": [
    {
     "data": {
      "text/plain": [
       "<AxesSubplot:>"
      ]
     },
     "execution_count": 6,
     "metadata": {},
     "output_type": "execute_result"
    },
    {
     "data": {
      "image/png": "[encoded data removed]",
      "text/plain": [
       "<Figure size 432x288 with 1 Axes>"
      ]
     },
     "metadata": {
      "needs_background": "light"
     },
     "output_type": "display_data"
    }
   ],
   "source": [
    "sandy_gdf.plot()"
   ]
  },
  {
   "cell_type": "markdown",
   "metadata": {},
   "source": [
    "# Hurricane Evacuation Zones\n",
    "Source: https://data.cityofnewyork.us/Public-Safety/Hurricane-Evacuation-Zones/uihr-hn7s\n",
    "\n",
    "![hurricane-evac-zones](images/hurricane-evac-zones.png)"
   ]
  },
  {
   "cell_type": "code",
   "execution_count": 7,
   "metadata": {},
   "outputs": [
    {
     "name": "stdout",
     "output_type": "stream",
     "text": [
      "hurricane-zones.zip   sandy-inundation.zip\r\n"
     ]
    }
   ],
   "source": [
    "# download url of dataset\n",
    "url = 'https://data.cityofnewyork.us/api/geospatial/uihr-hn7s?method=export&format=Shapefile'\n",
    "data = 'data/'\n",
    "\n",
    "fullfilename = os.path.join(data, 'hurricane-zones.zip')\n",
    "urllib.request.urlretrieve(url, fullfilename)\n",
    "\n",
    "%ls data/"
   ]
  },
  {
   "cell_type": "code",
   "execution_count": 8,
   "metadata": {},
   "outputs": [
    {
     "name": "stdout",
     "output_type": "stream",
     "text": [
      "shape of data: (8, 4)\n"
     ]
    },
    {
     "data": {
      "text/html": [
       "<div>\n",
       "<style scoped>\n",
       "    .dataframe tbody tr th:only-of-type {\n",
       "        vertical-align: middle;\n",
       "    }\n",
       "\n",
       "    .dataframe tbody tr th {\n",
       "        vertical-align: top;\n",
       "    }\n",
       "\n",
       "    .dataframe thead th {\n",
       "        text-align: right;\n",
       "    }\n",
       "</style>\n",
       "<table border=\"1\" class=\"dataframe\">\n",
       "  <thead>\n",
       "    <tr style=\"text-align: right;\">\n",
       "      <th></th>\n",
       "      <th>hurricane_</th>\n",
       "      <th>shape_area</th>\n",
       "      <th>shape_leng</th>\n",
       "      <th>geometry</th>\n",
       "    </tr>\n",
       "  </thead>\n",
       "  <tbody>\n",
       "    <tr>\n",
       "      <th>0</th>\n",
       "      <td>0</td>\n",
       "      <td>4.740026e+09</td>\n",
       "      <td>2.539842e+06</td>\n",
       "      <td>MULTIPOLYGON (((-73.73838 40.59712, -73.73886 ...</td>\n",
       "    </tr>\n",
       "    <tr>\n",
       "      <th>1</th>\n",
       "      <td>1</td>\n",
       "      <td>1.332012e+09</td>\n",
       "      <td>2.853847e+06</td>\n",
       "      <td>MULTIPOLYGON (((-74.21178 40.50819, -74.21179 ...</td>\n",
       "    </tr>\n",
       "    <tr>\n",
       "      <th>2</th>\n",
       "      <td>2</td>\n",
       "      <td>8.511473e+08</td>\n",
       "      <td>1.788935e+06</td>\n",
       "      <td>MULTIPOLYGON (((-74.23843 40.50268, -74.23833 ...</td>\n",
       "    </tr>\n",
       "    <tr>\n",
       "      <th>3</th>\n",
       "      <td>3</td>\n",
       "      <td>3.908593e+08</td>\n",
       "      <td>1.448826e+06</td>\n",
       "      <td>MULTIPOLYGON (((-74.22929 40.50400, -74.23055 ...</td>\n",
       "    </tr>\n",
       "    <tr>\n",
       "      <th>4</th>\n",
       "      <td>4</td>\n",
       "      <td>4.843452e+08</td>\n",
       "      <td>1.599283e+06</td>\n",
       "      <td>MULTIPOLYGON (((-74.24885 40.50074, -74.24961 ...</td>\n",
       "    </tr>\n",
       "  </tbody>\n",
       "</table>\n",
       "</div>"
      ],
      "text/plain": [
       "  hurricane_    shape_area    shape_leng  \\\n",
       "0          0  4.740026e+09  2.539842e+06   \n",
       "1          1  1.332012e+09  2.853847e+06   \n",
       "2          2  8.511473e+08  1.788935e+06   \n",
       "3          3  3.908593e+08  1.448826e+06   \n",
       "4          4  4.843452e+08  1.599283e+06   \n",
       "\n",
       "                                            geometry  \n",
       "0  MULTIPOLYGON (((-73.73838 40.59712, -73.73886 ...  \n",
       "1  MULTIPOLYGON (((-74.21178 40.50819, -74.21179 ...  \n",
       "2  MULTIPOLYGON (((-74.23843 40.50268, -74.23833 ...  \n",
       "3  MULTIPOLYGON (((-74.22929 40.50400, -74.23055 ...  \n",
       "4  MULTIPOLYGON (((-74.24885 40.50074, -74.24961 ...  "
      ]
     },
     "execution_count": 8,
     "metadata": {},
     "output_type": "execute_result"
    }
   ],
   "source": [
    "path = 'data/hurricane-zones.zip'\n",
    "hurricanes_gdf = gpd.read_file(path)\n",
    "\n",
    "print('shape of data: {}'.format(hurricanes_gdf.shape))\n",
    "hurricanes_gdf.head()"
   ]
  },
  {
   "cell_type": "code",
   "execution_count": 9,
   "metadata": {},
   "outputs": [
    {
     "data": {
      "text/plain": [
       "<AxesSubplot:>"
      ]
     },
     "execution_count": 9,
     "metadata": {},
     "output_type": "execute_result"
    },
    {
     "data": {
      "image/png": "[encoded data removed]",
      "text/plain": [
       "<Figure size 432x288 with 1 Axes>"
      ]
     },
     "metadata": {
      "needs_background": "light"
     },
     "output_type": "display_data"
    }
   ],
   "source": [
    "hurricanes_gdf.plot()"
   ]
  },
  {
   "cell_type": "markdown",
   "metadata": {},
   "source": [
    "# NYC Stormwater Flood Map - Moderate Flood with Current Sea Levels\n",
    "Source: https://data.cityofnewyork.us/Environment/NYC-Stormwater-Flood-Map-Moderate-Flood-with-Curre/7r5q-vr7p\n",
    "\n",
    "![stormwater-moderate-y00](images/stormwater-moderate-y00.png)"
   ]
  },
  {
   "cell_type": "code",
   "execution_count": 10,
   "metadata": {},
   "outputs": [
    {
     "name": "stdout",
     "output_type": "stream",
     "text": [
      "hurricane-zones.zip   sandy-inundation.zip  stormwater-y00.zip\r\n"
     ]
    }
   ],
   "source": [
    "# download url of dataset\n",
    "url = 'https://data.cityofnewyork.us/download/7r5q-vr7p/application%2Fx-zip-compressed'\n",
    "data = 'data/'\n",
    "\n",
    "fullfilename = os.path.join(data, 'stormwater-y00.zip')\n",
    "urllib.request.urlretrieve(url, fullfilename)\n",
    "\n",
    "%ls data/"
   ]
  },
  {
   "cell_type": "code",
   "execution_count": 11,
   "metadata": {},
   "outputs": [
    {
     "name": "stdout",
     "output_type": "stream",
     "text": [
      "shape of data: (2, 4)\n"
     ]
    },
    {
     "data": {
      "text/html": [
       "<div>\n",
       "<style scoped>\n",
       "    .dataframe tbody tr th:only-of-type {\n",
       "        vertical-align: middle;\n",
       "    }\n",
       "\n",
       "    .dataframe tbody tr th {\n",
       "        vertical-align: top;\n",
       "    }\n",
       "\n",
       "    .dataframe thead th {\n",
       "        text-align: right;\n",
       "    }\n",
       "</style>\n",
       "<table border=\"1\" class=\"dataframe\">\n",
       "  <thead>\n",
       "    <tr style=\"text-align: right;\">\n",
       "      <th></th>\n",
       "      <th>Flooding_Category</th>\n",
       "      <th>Shape_Length</th>\n",
       "      <th>Shape_Area</th>\n",
       "      <th>geometry</th>\n",
       "    </tr>\n",
       "  </thead>\n",
       "  <tbody>\n",
       "    <tr>\n",
       "      <th>0</th>\n",
       "      <td>1</td>\n",
       "      <td>6.456233e+06</td>\n",
       "      <td>7.937311e+07</td>\n",
       "      <td>MULTIPOLYGON Z (((917257.748 120888.120 0.000,...</td>\n",
       "    </tr>\n",
       "    <tr>\n",
       "      <th>1</th>\n",
       "      <td>2</td>\n",
       "      <td>2.601608e+06</td>\n",
       "      <td>4.119771e+07</td>\n",
       "      <td>MULTIPOLYGON Z (((917182.612 120877.544 0.000,...</td>\n",
       "    </tr>\n",
       "  </tbody>\n",
       "</table>\n",
       "</div>"
      ],
      "text/plain": [
       "   Flooding_Category  Shape_Length    Shape_Area  \\\n",
       "0                  1  6.456233e+06  7.937311e+07   \n",
       "1                  2  2.601608e+06  4.119771e+07   \n",
       "\n",
       "                                            geometry  \n",
       "0  MULTIPOLYGON Z (((917257.748 120888.120 0.000,...  \n",
       "1  MULTIPOLYGON Z (((917182.612 120877.544 0.000,...  "
      ]
     },
     "execution_count": 11,
     "metadata": {},
     "output_type": "execute_result"
    }
   ],
   "source": [
    "# read our csv data into a dataframe from our zipfile\n",
    "file = 'data/stormwater-y00.zip!NYC Stormwater Flood Map - Moderate Flood with Current Sea Levels.gdb'\n",
    "stormwater_current = gpd.read_file(file, low_memory=False)\n",
    "\n",
    "print('shape of data: {}'.format(stormwater_current.shape))\n",
    "stormwater_current.head()"
   ]
  },
  {
   "cell_type": "code",
   "execution_count": 12,
   "metadata": {},
   "outputs": [
    {
     "data": {
      "text/html": [
       "<div>\n",
       "<style scoped>\n",
       "    .dataframe tbody tr th:only-of-type {\n",
       "        vertical-align: middle;\n",
       "    }\n",
       "\n",
       "    .dataframe tbody tr th {\n",
       "        vertical-align: top;\n",
       "    }\n",
       "\n",
       "    .dataframe thead th {\n",
       "        text-align: right;\n",
       "    }\n",
       "</style>\n",
       "<table border=\"1\" class=\"dataframe\">\n",
       "  <thead>\n",
       "    <tr style=\"text-align: right;\">\n",
       "      <th></th>\n",
       "      <th>Flooding_Category</th>\n",
       "      <th>Shape_Length</th>\n",
       "      <th>Shape_Area</th>\n",
       "      <th>geometry</th>\n",
       "      <th>flood_classification</th>\n",
       "    </tr>\n",
       "  </thead>\n",
       "  <tbody>\n",
       "    <tr>\n",
       "      <th>0</th>\n",
       "      <td>1</td>\n",
       "      <td>6.456233e+06</td>\n",
       "      <td>7.937311e+07</td>\n",
       "      <td>MULTIPOLYGON Z (((917257.748 120888.120 0.000,...</td>\n",
       "      <td>Nuisance Flooding</td>\n",
       "    </tr>\n",
       "    <tr>\n",
       "      <th>1</th>\n",
       "      <td>2</td>\n",
       "      <td>2.601608e+06</td>\n",
       "      <td>4.119771e+07</td>\n",
       "      <td>MULTIPOLYGON Z (((917182.612 120877.544 0.000,...</td>\n",
       "      <td>Deep and Contiguous Flooding</td>\n",
       "    </tr>\n",
       "  </tbody>\n",
       "</table>\n",
       "</div>"
      ],
      "text/plain": [
       "   Flooding_Category  Shape_Length    Shape_Area  \\\n",
       "0                  1  6.456233e+06  7.937311e+07   \n",
       "1                  2  2.601608e+06  4.119771e+07   \n",
       "\n",
       "                                            geometry  \\\n",
       "0  MULTIPOLYGON Z (((917257.748 120888.120 0.000,...   \n",
       "1  MULTIPOLYGON Z (((917182.612 120877.544 0.000,...   \n",
       "\n",
       "           flood_classification  \n",
       "0             Nuisance Flooding  \n",
       "1  Deep and Contiguous Flooding  "
      ]
     },
     "execution_count": 12,
     "metadata": {},
     "output_type": "execute_result"
    }
   ],
   "source": [
    "codes = {\n",
    "    1:'Nuisance Flooding',\n",
    "    2:'Deep and Contiguous Flooding',\n",
    "    3:'Future High Tides 2080'\n",
    "}\n",
    "\n",
    "stormwater_current['flood_classification'] = stormwater_current['Flooding_Category'].replace(codes)\n",
    "\n",
    "stormwater_current.head()"
   ]
  },
  {
   "cell_type": "code",
   "execution_count": 13,
   "metadata": {},
   "outputs": [
    {
     "data": {
      "text/html": [
       "<div>\n",
       "<style scoped>\n",
       "    .dataframe tbody tr th:only-of-type {\n",
       "        vertical-align: middle;\n",
       "    }\n",
       "\n",
       "    .dataframe tbody tr th {\n",
       "        vertical-align: top;\n",
       "    }\n",
       "\n",
       "    .dataframe thead th {\n",
       "        text-align: right;\n",
       "    }\n",
       "</style>\n",
       "<table border=\"1\" class=\"dataframe\">\n",
       "  <thead>\n",
       "    <tr style=\"text-align: right;\">\n",
       "      <th></th>\n",
       "      <th>Flooding_Category</th>\n",
       "      <th>Shape_Length</th>\n",
       "      <th>Shape_Area</th>\n",
       "      <th>flood_classification</th>\n",
       "      <th>geometry</th>\n",
       "    </tr>\n",
       "  </thead>\n",
       "  <tbody>\n",
       "    <tr>\n",
       "      <th>0</th>\n",
       "      <td>1</td>\n",
       "      <td>269.023026</td>\n",
       "      <td>1479.465601</td>\n",
       "      <td>Nuisance Flooding</td>\n",
       "      <td>POLYGON Z ((917257.748 120888.120 0.000, 91726...</td>\n",
       "    </tr>\n",
       "    <tr>\n",
       "      <th>1</th>\n",
       "      <td>1</td>\n",
       "      <td>94.018586</td>\n",
       "      <td>347.203105</td>\n",
       "      <td>Nuisance Flooding</td>\n",
       "      <td>POLYGON Z ((917257.748 120888.120 0.000, 91727...</td>\n",
       "    </tr>\n",
       "    <tr>\n",
       "      <th>2</th>\n",
       "      <td>1</td>\n",
       "      <td>129.191396</td>\n",
       "      <td>658.602805</td>\n",
       "      <td>Nuisance Flooding</td>\n",
       "      <td>POLYGON Z ((917423.697 120898.496 0.000, 91741...</td>\n",
       "    </tr>\n",
       "    <tr>\n",
       "      <th>3</th>\n",
       "      <td>1</td>\n",
       "      <td>205.237509</td>\n",
       "      <td>1355.404896</td>\n",
       "      <td>Nuisance Flooding</td>\n",
       "      <td>POLYGON Z ((917337.210 120971.030 0.000, 91734...</td>\n",
       "    </tr>\n",
       "    <tr>\n",
       "      <th>4</th>\n",
       "      <td>1</td>\n",
       "      <td>338.975220</td>\n",
       "      <td>4429.263164</td>\n",
       "      <td>Nuisance Flooding</td>\n",
       "      <td>POLYGON Z ((917156.306 120935.162 0.000, 91716...</td>\n",
       "    </tr>\n",
       "  </tbody>\n",
       "</table>\n",
       "</div>"
      ],
      "text/plain": [
       "   Flooding_Category  Shape_Length   Shape_Area flood_classification  \\\n",
       "0                  1    269.023026  1479.465601    Nuisance Flooding   \n",
       "1                  1     94.018586   347.203105    Nuisance Flooding   \n",
       "2                  1    129.191396   658.602805    Nuisance Flooding   \n",
       "3                  1    205.237509  1355.404896    Nuisance Flooding   \n",
       "4                  1    338.975220  4429.263164    Nuisance Flooding   \n",
       "\n",
       "                                            geometry  \n",
       "0  POLYGON Z ((917257.748 120888.120 0.000, 91726...  \n",
       "1  POLYGON Z ((917257.748 120888.120 0.000, 91727...  \n",
       "2  POLYGON Z ((917423.697 120898.496 0.000, 91741...  \n",
       "3  POLYGON Z ((917337.210 120971.030 0.000, 91734...  \n",
       "4  POLYGON Z ((917156.306 120935.162 0.000, 91716...  "
      ]
     },
     "execution_count": 13,
     "metadata": {},
     "output_type": "execute_result"
    }
   ],
   "source": [
    "stormwater_current = stormwater_current.explode(index_parts=True).reset_index(drop=True)\n",
    "stormwater_current['Shape_Area'] = stormwater_current.area \n",
    "stormwater_current['Shape_Length'] = stormwater_current.length \n",
    "\n",
    "stormwater_current.head()"
   ]
  },
  {
   "cell_type": "code",
   "execution_count": 14,
   "metadata": {},
   "outputs": [
    {
     "data": {
      "text/plain": [
       "<AxesSubplot:>"
      ]
     },
     "execution_count": 14,
     "metadata": {},
     "output_type": "execute_result"
    },
    {
     "data": {
      "image/png": "[encoded data removed]",
      "text/plain": [
       "<Figure size 432x288 with 1 Axes>"
      ]
     },
     "metadata": {
      "needs_background": "light"
     },
     "output_type": "display_data"
    }
   ],
   "source": [
    "stormwater_current.plot()"
   ]
  },
  {
   "cell_type": "markdown",
   "metadata": {},
   "source": [
    "# NYC Stormwater Flood Map - Moderate Flood with 2050 Sea Level Rise\n",
    "Source: https://data.cityofnewyork.us/City-Government/NYC-Stormwater-Flood-Map-Moderate-Flood-with-2050-/5rzh-cyqd\n",
    "\n",
    "![stormwater-moderate-y30](images/stormwater-moderate-y30.png)"
   ]
  },
  {
   "cell_type": "code",
   "execution_count": 15,
   "metadata": {},
   "outputs": [
    {
     "name": "stdout",
     "output_type": "stream",
     "text": [
      "hurricane-zones.zip   stormwater-y00.zip\r\n",
      "sandy-inundation.zip  stormwater-y30.zip\r\n"
     ]
    }
   ],
   "source": [
    "# download url of dataset\n",
    "url = 'https://data.cityofnewyork.us/download/5rzh-cyqd/application%2Fx-zip-compressed'\n",
    "data = 'data/'\n",
    "\n",
    "fullfilename = os.path.join(data, 'stormwater-y30.zip')\n",
    "urllib.request.urlretrieve(url, fullfilename)\n",
    "\n",
    "%ls data/"
   ]
  },
  {
   "cell_type": "code",
   "execution_count": 16,
   "metadata": {},
   "outputs": [
    {
     "name": "stdout",
     "output_type": "stream",
     "text": [
      "shape of data: (3, 4)\n"
     ]
    },
    {
     "data": {
      "text/html": [
       "<div>\n",
       "<style scoped>\n",
       "    .dataframe tbody tr th:only-of-type {\n",
       "        vertical-align: middle;\n",
       "    }\n",
       "\n",
       "    .dataframe tbody tr th {\n",
       "        vertical-align: top;\n",
       "    }\n",
       "\n",
       "    .dataframe thead th {\n",
       "        text-align: right;\n",
       "    }\n",
       "</style>\n",
       "<table border=\"1\" class=\"dataframe\">\n",
       "  <thead>\n",
       "    <tr style=\"text-align: right;\">\n",
       "      <th></th>\n",
       "      <th>Flooding_Category</th>\n",
       "      <th>Shape_Length</th>\n",
       "      <th>Shape_Area</th>\n",
       "      <th>geometry</th>\n",
       "    </tr>\n",
       "  </thead>\n",
       "  <tbody>\n",
       "    <tr>\n",
       "      <th>0</th>\n",
       "      <td>1</td>\n",
       "      <td>7.065402e+06</td>\n",
       "      <td>8.657528e+07</td>\n",
       "      <td>MULTIPOLYGON Z (((917232.601 120841.554 0.000,...</td>\n",
       "    </tr>\n",
       "    <tr>\n",
       "      <th>1</th>\n",
       "      <td>2</td>\n",
       "      <td>2.877719e+06</td>\n",
       "      <td>4.613496e+07</td>\n",
       "      <td>MULTIPOLYGON Z (((917155.062 120828.741 0.000,...</td>\n",
       "    </tr>\n",
       "    <tr>\n",
       "      <th>2</th>\n",
       "      <td>3</td>\n",
       "      <td>4.994691e+06</td>\n",
       "      <td>1.389420e+08</td>\n",
       "      <td>MULTIPOLYGON Z (((915689.174 120243.672 0.000,...</td>\n",
       "    </tr>\n",
       "  </tbody>\n",
       "</table>\n",
       "</div>"
      ],
      "text/plain": [
       "   Flooding_Category  Shape_Length    Shape_Area  \\\n",
       "0                  1  7.065402e+06  8.657528e+07   \n",
       "1                  2  2.877719e+06  4.613496e+07   \n",
       "2                  3  4.994691e+06  1.389420e+08   \n",
       "\n",
       "                                            geometry  \n",
       "0  MULTIPOLYGON Z (((917232.601 120841.554 0.000,...  \n",
       "1  MULTIPOLYGON Z (((917155.062 120828.741 0.000,...  \n",
       "2  MULTIPOLYGON Z (((915689.174 120243.672 0.000,...  "
      ]
     },
     "execution_count": 16,
     "metadata": {},
     "output_type": "execute_result"
    }
   ],
   "source": [
    "# read our csv data into a dataframe from our zipfile\n",
    "file = 'data/stormwater-y30.zip!NYC Stormwater Flood Map - Moderate Flood with 2050 Sea Level Rise.gdb'\n",
    "stormwater_moderate = gpd.read_file(file, low_memory=False)\n",
    "\n",
    "print('shape of data: {}'.format(stormwater_moderate.shape))\n",
    "stormwater_moderate.head()"
   ]
  },
  {
   "cell_type": "code",
   "execution_count": 17,
   "metadata": {},
   "outputs": [
    {
     "data": {
      "text/html": [
       "<div>\n",
       "<style scoped>\n",
       "    .dataframe tbody tr th:only-of-type {\n",
       "        vertical-align: middle;\n",
       "    }\n",
       "\n",
       "    .dataframe tbody tr th {\n",
       "        vertical-align: top;\n",
       "    }\n",
       "\n",
       "    .dataframe thead th {\n",
       "        text-align: right;\n",
       "    }\n",
       "</style>\n",
       "<table border=\"1\" class=\"dataframe\">\n",
       "  <thead>\n",
       "    <tr style=\"text-align: right;\">\n",
       "      <th></th>\n",
       "      <th>Flooding_Category</th>\n",
       "      <th>Shape_Length</th>\n",
       "      <th>Shape_Area</th>\n",
       "      <th>geometry</th>\n",
       "      <th>flood_classification</th>\n",
       "    </tr>\n",
       "  </thead>\n",
       "  <tbody>\n",
       "    <tr>\n",
       "      <th>0</th>\n",
       "      <td>1</td>\n",
       "      <td>7.065402e+06</td>\n",
       "      <td>8.657528e+07</td>\n",
       "      <td>MULTIPOLYGON Z (((917232.601 120841.554 0.000,...</td>\n",
       "      <td>Nuisance Flooding</td>\n",
       "    </tr>\n",
       "    <tr>\n",
       "      <th>1</th>\n",
       "      <td>2</td>\n",
       "      <td>2.877719e+06</td>\n",
       "      <td>4.613496e+07</td>\n",
       "      <td>MULTIPOLYGON Z (((917155.062 120828.741 0.000,...</td>\n",
       "      <td>Deep and Contiguous Flooding</td>\n",
       "    </tr>\n",
       "    <tr>\n",
       "      <th>2</th>\n",
       "      <td>3</td>\n",
       "      <td>4.994691e+06</td>\n",
       "      <td>1.389420e+08</td>\n",
       "      <td>MULTIPOLYGON Z (((915689.174 120243.672 0.000,...</td>\n",
       "      <td>Future High Tides 2080</td>\n",
       "    </tr>\n",
       "  </tbody>\n",
       "</table>\n",
       "</div>"
      ],
      "text/plain": [
       "   Flooding_Category  Shape_Length    Shape_Area  \\\n",
       "0                  1  7.065402e+06  8.657528e+07   \n",
       "1                  2  2.877719e+06  4.613496e+07   \n",
       "2                  3  4.994691e+06  1.389420e+08   \n",
       "\n",
       "                                            geometry  \\\n",
       "0  MULTIPOLYGON Z (((917232.601 120841.554 0.000,...   \n",
       "1  MULTIPOLYGON Z (((917155.062 120828.741 0.000,...   \n",
       "2  MULTIPOLYGON Z (((915689.174 120243.672 0.000,...   \n",
       "\n",
       "           flood_classification  \n",
       "0             Nuisance Flooding  \n",
       "1  Deep and Contiguous Flooding  \n",
       "2        Future High Tides 2080  "
      ]
     },
     "execution_count": 17,
     "metadata": {},
     "output_type": "execute_result"
    }
   ],
   "source": [
    "codes = {\n",
    "    1:'Nuisance Flooding',\n",
    "    2:'Deep and Contiguous Flooding',\n",
    "    3:'Future High Tides 2080'\n",
    "}\n",
    "\n",
    "stormwater_moderate['flood_classification'] = stormwater_moderate['Flooding_Category'].replace(codes)\n",
    "\n",
    "stormwater_moderate.head()"
   ]
  },
  {
   "cell_type": "code",
   "execution_count": 18,
   "metadata": {},
   "outputs": [
    {
     "data": {
      "text/html": [
       "<div>\n",
       "<style scoped>\n",
       "    .dataframe tbody tr th:only-of-type {\n",
       "        vertical-align: middle;\n",
       "    }\n",
       "\n",
       "    .dataframe tbody tr th {\n",
       "        vertical-align: top;\n",
       "    }\n",
       "\n",
       "    .dataframe thead th {\n",
       "        text-align: right;\n",
       "    }\n",
       "</style>\n",
       "<table border=\"1\" class=\"dataframe\">\n",
       "  <thead>\n",
       "    <tr style=\"text-align: right;\">\n",
       "      <th></th>\n",
       "      <th>Flooding_Category</th>\n",
       "      <th>Shape_Length</th>\n",
       "      <th>Shape_Area</th>\n",
       "      <th>flood_classification</th>\n",
       "      <th>geometry</th>\n",
       "    </tr>\n",
       "  </thead>\n",
       "  <tbody>\n",
       "    <tr>\n",
       "      <th>0</th>\n",
       "      <td>1</td>\n",
       "      <td>23.523243</td>\n",
       "      <td>33.354365</td>\n",
       "      <td>Nuisance Flooding</td>\n",
       "      <td>POLYGON Z ((917232.601 120841.554 0.000, 91723...</td>\n",
       "    </tr>\n",
       "    <tr>\n",
       "      <th>1</th>\n",
       "      <td>1</td>\n",
       "      <td>36.241793</td>\n",
       "      <td>71.779885</td>\n",
       "      <td>Nuisance Flooding</td>\n",
       "      <td>POLYGON Z ((917238.644 120854.459 0.000, 91722...</td>\n",
       "    </tr>\n",
       "    <tr>\n",
       "      <th>2</th>\n",
       "      <td>1</td>\n",
       "      <td>138.842343</td>\n",
       "      <td>551.566475</td>\n",
       "      <td>Nuisance Flooding</td>\n",
       "      <td>POLYGON Z ((917206.327 120862.559 0.000, 91721...</td>\n",
       "    </tr>\n",
       "    <tr>\n",
       "      <th>3</th>\n",
       "      <td>1</td>\n",
       "      <td>104.069124</td>\n",
       "      <td>222.708746</td>\n",
       "      <td>Nuisance Flooding</td>\n",
       "      <td>POLYGON Z ((917257.748 120888.120 0.000, 91726...</td>\n",
       "    </tr>\n",
       "    <tr>\n",
       "      <th>4</th>\n",
       "      <td>1</td>\n",
       "      <td>94.019239</td>\n",
       "      <td>347.206795</td>\n",
       "      <td>Nuisance Flooding</td>\n",
       "      <td>POLYGON Z ((917257.748 120888.120 0.000, 91727...</td>\n",
       "    </tr>\n",
       "  </tbody>\n",
       "</table>\n",
       "</div>"
      ],
      "text/plain": [
       "   Flooding_Category  Shape_Length  Shape_Area flood_classification  \\\n",
       "0                  1     23.523243   33.354365    Nuisance Flooding   \n",
       "1                  1     36.241793   71.779885    Nuisance Flooding   \n",
       "2                  1    138.842343  551.566475    Nuisance Flooding   \n",
       "3                  1    104.069124  222.708746    Nuisance Flooding   \n",
       "4                  1     94.019239  347.206795    Nuisance Flooding   \n",
       "\n",
       "                                            geometry  \n",
       "0  POLYGON Z ((917232.601 120841.554 0.000, 91723...  \n",
       "1  POLYGON Z ((917238.644 120854.459 0.000, 91722...  \n",
       "2  POLYGON Z ((917206.327 120862.559 0.000, 91721...  \n",
       "3  POLYGON Z ((917257.748 120888.120 0.000, 91726...  \n",
       "4  POLYGON Z ((917257.748 120888.120 0.000, 91727...  "
      ]
     },
     "execution_count": 18,
     "metadata": {},
     "output_type": "execute_result"
    }
   ],
   "source": [
    "stormwater_moderate = stormwater_moderate.explode(index_parts=True).reset_index(drop=True)\n",
    "stormwater_moderate['Shape_Area'] = stormwater_moderate.area \n",
    "stormwater_moderate['Shape_Length'] = stormwater_moderate.length \n",
    "\n",
    "stormwater_moderate.head()"
   ]
  },
  {
   "cell_type": "code",
   "execution_count": 19,
   "metadata": {},
   "outputs": [
    {
     "data": {
      "text/plain": [
       "<AxesSubplot:>"
      ]
     },
     "execution_count": 19,
     "metadata": {},
     "output_type": "execute_result"
    },
    {
     "data": {
      "image/png": "[encoded data removed]",
      "text/plain": [
       "<Figure size 432x288 with 1 Axes>"
      ]
     },
     "metadata": {
      "needs_background": "light"
     },
     "output_type": "display_data"
    }
   ],
   "source": [
    "stormwater_moderate.plot()"
   ]
  },
  {
   "cell_type": "markdown",
   "metadata": {},
   "source": [
    "# NYC Stormwater Flood Map - Extreme Flood with 2080 Sea Level Rise\n",
    "Source: https://data.cityofnewyork.us/City-Government/NYC-Stormwater-Flood-Map-Extreme-Flood-with-2080-S/w8eg-8ha6\n",
    "\n",
    "![stormwater-extreme-y60](images/stormwater-extreme-y60.png)"
   ]
  },
  {
   "cell_type": "code",
   "execution_count": 20,
   "metadata": {},
   "outputs": [
    {
     "name": "stdout",
     "output_type": "stream",
     "text": [
      "hurricane-zones.zip   stormwater-y00.zip    stormwater-y60.zip\r\n",
      "sandy-inundation.zip  stormwater-y30.zip\r\n"
     ]
    }
   ],
   "source": [
    "# download url of dataset\n",
    "url = 'https://data.cityofnewyork.us/download/w8eg-8ha6/application%2Fx-zip-compressed'\n",
    "data = 'data/'\n",
    "\n",
    "fullfilename = os.path.join(data, 'stormwater-y60.zip')\n",
    "urllib.request.urlretrieve(url, fullfilename)\n",
    "\n",
    "%ls data/"
   ]
  },
  {
   "cell_type": "code",
   "execution_count": 21,
   "metadata": {},
   "outputs": [
    {
     "name": "stdout",
     "output_type": "stream",
     "text": [
      "shape of data: (3, 4)\n"
     ]
    },
    {
     "data": {
      "text/html": [
       "<div>\n",
       "<style scoped>\n",
       "    .dataframe tbody tr th:only-of-type {\n",
       "        vertical-align: middle;\n",
       "    }\n",
       "\n",
       "    .dataframe tbody tr th {\n",
       "        vertical-align: top;\n",
       "    }\n",
       "\n",
       "    .dataframe thead th {\n",
       "        text-align: right;\n",
       "    }\n",
       "</style>\n",
       "<table border=\"1\" class=\"dataframe\">\n",
       "  <thead>\n",
       "    <tr style=\"text-align: right;\">\n",
       "      <th></th>\n",
       "      <th>Flooding_Category</th>\n",
       "      <th>Shape_Length</th>\n",
       "      <th>Shape_Area</th>\n",
       "      <th>geometry</th>\n",
       "    </tr>\n",
       "  </thead>\n",
       "  <tbody>\n",
       "    <tr>\n",
       "      <th>0</th>\n",
       "      <td>1</td>\n",
       "      <td>3.264384e+07</td>\n",
       "      <td>3.972152e+08</td>\n",
       "      <td>MULTIPOLYGON Z (((917206.497 120931.611 0.000,...</td>\n",
       "    </tr>\n",
       "    <tr>\n",
       "      <th>1</th>\n",
       "      <td>2</td>\n",
       "      <td>1.656489e+07</td>\n",
       "      <td>3.054550e+08</td>\n",
       "      <td>MULTIPOLYGON Z (((917270.790 120873.747 0.000,...</td>\n",
       "    </tr>\n",
       "    <tr>\n",
       "      <th>2</th>\n",
       "      <td>3</td>\n",
       "      <td>8.042525e+06</td>\n",
       "      <td>3.455846e+08</td>\n",
       "      <td>MULTIPOLYGON Z (((915290.556 120269.389 0.000,...</td>\n",
       "    </tr>\n",
       "  </tbody>\n",
       "</table>\n",
       "</div>"
      ],
      "text/plain": [
       "   Flooding_Category  Shape_Length    Shape_Area  \\\n",
       "0                  1  3.264384e+07  3.972152e+08   \n",
       "1                  2  1.656489e+07  3.054550e+08   \n",
       "2                  3  8.042525e+06  3.455846e+08   \n",
       "\n",
       "                                            geometry  \n",
       "0  MULTIPOLYGON Z (((917206.497 120931.611 0.000,...  \n",
       "1  MULTIPOLYGON Z (((917270.790 120873.747 0.000,...  \n",
       "2  MULTIPOLYGON Z (((915290.556 120269.389 0.000,...  "
      ]
     },
     "execution_count": 21,
     "metadata": {},
     "output_type": "execute_result"
    }
   ],
   "source": [
    "# read our csv data into a dataframe from our zipfile\n",
    "file = 'data/stormwater-y60.zip!NYC Stormwater Flood Map - Extreme Flood with 2080 Sea Level Rise.gdb'\n",
    "stormwater_extreme = gpd.read_file(file, low_memory=False)\n",
    "\n",
    "print('shape of data: {}'.format(stormwater_extreme.shape))\n",
    "stormwater_extreme.head()"
   ]
  },
  {
   "cell_type": "code",
   "execution_count": 22,
   "metadata": {},
   "outputs": [
    {
     "data": {
      "text/html": [
       "<div>\n",
       "<style scoped>\n",
       "    .dataframe tbody tr th:only-of-type {\n",
       "        vertical-align: middle;\n",
       "    }\n",
       "\n",
       "    .dataframe tbody tr th {\n",
       "        vertical-align: top;\n",
       "    }\n",
       "\n",
       "    .dataframe thead th {\n",
       "        text-align: right;\n",
       "    }\n",
       "</style>\n",
       "<table border=\"1\" class=\"dataframe\">\n",
       "  <thead>\n",
       "    <tr style=\"text-align: right;\">\n",
       "      <th></th>\n",
       "      <th>Flooding_Category</th>\n",
       "      <th>Shape_Length</th>\n",
       "      <th>Shape_Area</th>\n",
       "      <th>geometry</th>\n",
       "      <th>flood_classification</th>\n",
       "    </tr>\n",
       "  </thead>\n",
       "  <tbody>\n",
       "    <tr>\n",
       "      <th>0</th>\n",
       "      <td>1</td>\n",
       "      <td>3.264384e+07</td>\n",
       "      <td>3.972152e+08</td>\n",
       "      <td>MULTIPOLYGON Z (((917206.497 120931.611 0.000,...</td>\n",
       "      <td>Nuisance Flooding</td>\n",
       "    </tr>\n",
       "    <tr>\n",
       "      <th>1</th>\n",
       "      <td>2</td>\n",
       "      <td>1.656489e+07</td>\n",
       "      <td>3.054550e+08</td>\n",
       "      <td>MULTIPOLYGON Z (((917270.790 120873.747 0.000,...</td>\n",
       "      <td>Deep and Contiguous Flooding</td>\n",
       "    </tr>\n",
       "    <tr>\n",
       "      <th>2</th>\n",
       "      <td>3</td>\n",
       "      <td>8.042525e+06</td>\n",
       "      <td>3.455846e+08</td>\n",
       "      <td>MULTIPOLYGON Z (((915290.556 120269.389 0.000,...</td>\n",
       "      <td>Future High Tides 2080</td>\n",
       "    </tr>\n",
       "  </tbody>\n",
       "</table>\n",
       "</div>"
      ],
      "text/plain": [
       "   Flooding_Category  Shape_Length    Shape_Area  \\\n",
       "0                  1  3.264384e+07  3.972152e+08   \n",
       "1                  2  1.656489e+07  3.054550e+08   \n",
       "2                  3  8.042525e+06  3.455846e+08   \n",
       "\n",
       "                                            geometry  \\\n",
       "0  MULTIPOLYGON Z (((917206.497 120931.611 0.000,...   \n",
       "1  MULTIPOLYGON Z (((917270.790 120873.747 0.000,...   \n",
       "2  MULTIPOLYGON Z (((915290.556 120269.389 0.000,...   \n",
       "\n",
       "           flood_classification  \n",
       "0             Nuisance Flooding  \n",
       "1  Deep and Contiguous Flooding  \n",
       "2        Future High Tides 2080  "
      ]
     },
     "execution_count": 22,
     "metadata": {},
     "output_type": "execute_result"
    }
   ],
   "source": [
    "codes = {\n",
    "    1:'Nuisance Flooding',\n",
    "    2:'Deep and Contiguous Flooding',\n",
    "    3:'Future High Tides 2080'\n",
    "}\n",
    "\n",
    "stormwater_extreme['flood_classification'] = stormwater_extreme['Flooding_Category'].replace(codes)\n",
    "\n",
    "stormwater_extreme.head()"
   ]
  },
  {
   "cell_type": "code",
   "execution_count": 23,
   "metadata": {},
   "outputs": [
    {
     "data": {
      "text/html": [
       "<div>\n",
       "<style scoped>\n",
       "    .dataframe tbody tr th:only-of-type {\n",
       "        vertical-align: middle;\n",
       "    }\n",
       "\n",
       "    .dataframe tbody tr th {\n",
       "        vertical-align: top;\n",
       "    }\n",
       "\n",
       "    .dataframe thead th {\n",
       "        text-align: right;\n",
       "    }\n",
       "</style>\n",
       "<table border=\"1\" class=\"dataframe\">\n",
       "  <thead>\n",
       "    <tr style=\"text-align: right;\">\n",
       "      <th></th>\n",
       "      <th>Flooding_Category</th>\n",
       "      <th>Shape_Length</th>\n",
       "      <th>Shape_Area</th>\n",
       "      <th>flood_classification</th>\n",
       "      <th>geometry</th>\n",
       "    </tr>\n",
       "  </thead>\n",
       "  <tbody>\n",
       "    <tr>\n",
       "      <th>0</th>\n",
       "      <td>1</td>\n",
       "      <td>51.436905</td>\n",
       "      <td>165.359700</td>\n",
       "      <td>Nuisance Flooding</td>\n",
       "      <td>POLYGON Z ((917206.497 120931.611 0.000, 91720...</td>\n",
       "    </tr>\n",
       "    <tr>\n",
       "      <th>1</th>\n",
       "      <td>1</td>\n",
       "      <td>37.622059</td>\n",
       "      <td>79.460913</td>\n",
       "      <td>Nuisance Flooding</td>\n",
       "      <td>POLYGON Z ((917309.366 120950.899 0.000, 91730...</td>\n",
       "    </tr>\n",
       "    <tr>\n",
       "      <th>2</th>\n",
       "      <td>1</td>\n",
       "      <td>14.432754</td>\n",
       "      <td>4.925173</td>\n",
       "      <td>Nuisance Flooding</td>\n",
       "      <td>POLYGON Z ((917309.366 120950.899 0.000, 91730...</td>\n",
       "    </tr>\n",
       "    <tr>\n",
       "      <th>3</th>\n",
       "      <td>1</td>\n",
       "      <td>54.817201</td>\n",
       "      <td>154.010850</td>\n",
       "      <td>Nuisance Flooding</td>\n",
       "      <td>POLYGON Z ((917277.219 120938.040 0.000, 91726...</td>\n",
       "    </tr>\n",
       "    <tr>\n",
       "      <th>4</th>\n",
       "      <td>1</td>\n",
       "      <td>24.392395</td>\n",
       "      <td>14.030167</td>\n",
       "      <td>Nuisance Flooding</td>\n",
       "      <td>POLYGON Z ((917311.973 120963.757 0.000, 91730...</td>\n",
       "    </tr>\n",
       "  </tbody>\n",
       "</table>\n",
       "</div>"
      ],
      "text/plain": [
       "   Flooding_Category  Shape_Length  Shape_Area flood_classification  \\\n",
       "0                  1     51.436905  165.359700    Nuisance Flooding   \n",
       "1                  1     37.622059   79.460913    Nuisance Flooding   \n",
       "2                  1     14.432754    4.925173    Nuisance Flooding   \n",
       "3                  1     54.817201  154.010850    Nuisance Flooding   \n",
       "4                  1     24.392395   14.030167    Nuisance Flooding   \n",
       "\n",
       "                                            geometry  \n",
       "0  POLYGON Z ((917206.497 120931.611 0.000, 91720...  \n",
       "1  POLYGON Z ((917309.366 120950.899 0.000, 91730...  \n",
       "2  POLYGON Z ((917309.366 120950.899 0.000, 91730...  \n",
       "3  POLYGON Z ((917277.219 120938.040 0.000, 91726...  \n",
       "4  POLYGON Z ((917311.973 120963.757 0.000, 91730...  "
      ]
     },
     "execution_count": 23,
     "metadata": {},
     "output_type": "execute_result"
    }
   ],
   "source": [
    "stormwater_extreme = stormwater_extreme.explode(index_parts=True).reset_index(drop=True)\n",
    "stormwater_extreme['Shape_Area'] = stormwater_extreme.area \n",
    "stormwater_extreme['Shape_Length'] = stormwater_extreme.length \n",
    "\n",
    "stormwater_extreme.head()"
   ]
  },
  {
   "cell_type": "code",
   "execution_count": 24,
   "metadata": {},
   "outputs": [
    {
     "data": {
      "text/plain": [
       "<AxesSubplot:>"
      ]
     },
     "execution_count": 24,
     "metadata": {},
     "output_type": "execute_result"
    },
    {
     "data": {
      "image/png": "[encoded data removed]",
      "text/plain": [
       "<Figure size 432x288 with 1 Axes>"
      ]
     },
     "metadata": {
      "needs_background": "light"
     },
     "output_type": "display_data"
    }
   ],
   "source": [
    "stormwater_extreme.plot()"
   ]
  },
  {
   "cell_type": "markdown",
   "metadata": {},
   "source": [
    "# Sea Level Rise Maps (2020s 100-year Floodplain)\n",
    "Source: https://data.cityofnewyork.us/Environment/Sea-Level-Rise-Maps-2020s-100-year-Floodplain-/ezfn-5dsb\n",
    "\n",
    "![slr-rp100-y00](images/slr-rp100-y00.png)"
   ]
  },
  {
   "cell_type": "code",
   "execution_count": 25,
   "metadata": {},
   "outputs": [
    {
     "name": "stdout",
     "output_type": "stream",
     "text": [
      "hurricane-zones.zip   slr-rp100-y00.zip     stormwater-y30.zip\r\n",
      "sandy-inundation.zip  stormwater-y00.zip    stormwater-y60.zip\r\n"
     ]
    }
   ],
   "source": [
    "# download url of dataset\n",
    "url = 'https://data.cityofnewyork.us/api/geospatial/ezfn-5dsb?method=export&format=Shapefile'\n",
    "data = 'data/'\n",
    "\n",
    "fullfilename = os.path.join(data, 'slr-rp100-y00.zip')\n",
    "urllib.request.urlretrieve(url, fullfilename)\n",
    "\n",
    "%ls data/"
   ]
  },
  {
   "cell_type": "code",
   "execution_count": 26,
   "metadata": {},
   "outputs": [
    {
     "name": "stdout",
     "output_type": "stream",
     "text": [
      "shape of data: (5982, 11)\n"
     ]
    },
    {
     "data": {
      "text/html": [
       "<div>\n",
       "<style scoped>\n",
       "    .dataframe tbody tr th:only-of-type {\n",
       "        vertical-align: middle;\n",
       "    }\n",
       "\n",
       "    .dataframe tbody tr th {\n",
       "        vertical-align: top;\n",
       "    }\n",
       "\n",
       "    .dataframe thead th {\n",
       "        text-align: right;\n",
       "    }\n",
       "</style>\n",
       "<table border=\"1\" class=\"dataframe\">\n",
       "  <thead>\n",
       "    <tr style=\"text-align: right;\">\n",
       "      <th></th>\n",
       "      <th>abfe_0_2pc</th>\n",
       "      <th>fld_zone</th>\n",
       "      <th>gridcode</th>\n",
       "      <th>id</th>\n",
       "      <th>join_count</th>\n",
       "      <th>orig_fid</th>\n",
       "      <th>shape_area</th>\n",
       "      <th>shape_leng</th>\n",
       "      <th>static_bfe</th>\n",
       "      <th>target_fid</th>\n",
       "      <th>geometry</th>\n",
       "    </tr>\n",
       "  </thead>\n",
       "  <tbody>\n",
       "    <tr>\n",
       "      <th>0</th>\n",
       "      <td>0.0</td>\n",
       "      <td>None</td>\n",
       "      <td>900.0</td>\n",
       "      <td>2.0</td>\n",
       "      <td>0.0</td>\n",
       "      <td>0.0</td>\n",
       "      <td>0.0</td>\n",
       "      <td>0.0</td>\n",
       "      <td>0.0</td>\n",
       "      <td>0.0</td>\n",
       "      <td>POLYGON ((-73.91020 40.91784, -73.91020 40.917...</td>\n",
       "    </tr>\n",
       "    <tr>\n",
       "      <th>1</th>\n",
       "      <td>0.0</td>\n",
       "      <td>None</td>\n",
       "      <td>900.0</td>\n",
       "      <td>4.0</td>\n",
       "      <td>0.0</td>\n",
       "      <td>1.0</td>\n",
       "      <td>0.0</td>\n",
       "      <td>0.0</td>\n",
       "      <td>0.0</td>\n",
       "      <td>0.0</td>\n",
       "      <td>POLYGON ((-73.90993 40.91544, -73.91016 40.915...</td>\n",
       "    </tr>\n",
       "    <tr>\n",
       "      <th>2</th>\n",
       "      <td>0.0</td>\n",
       "      <td>None</td>\n",
       "      <td>900.0</td>\n",
       "      <td>5.0</td>\n",
       "      <td>0.0</td>\n",
       "      <td>2.0</td>\n",
       "      <td>0.0</td>\n",
       "      <td>0.0</td>\n",
       "      <td>0.0</td>\n",
       "      <td>0.0</td>\n",
       "      <td>POLYGON ((-73.91147 40.91345, -73.91147 40.913...</td>\n",
       "    </tr>\n",
       "    <tr>\n",
       "      <th>3</th>\n",
       "      <td>0.0</td>\n",
       "      <td>None</td>\n",
       "      <td>1200.0</td>\n",
       "      <td>6.0</td>\n",
       "      <td>0.0</td>\n",
       "      <td>3.0</td>\n",
       "      <td>0.0</td>\n",
       "      <td>0.0</td>\n",
       "      <td>0.0</td>\n",
       "      <td>0.0</td>\n",
       "      <td>POLYGON ((-73.91165 40.91283, -73.91875 40.912...</td>\n",
       "    </tr>\n",
       "    <tr>\n",
       "      <th>4</th>\n",
       "      <td>0.0</td>\n",
       "      <td>None</td>\n",
       "      <td>1200.0</td>\n",
       "      <td>7.0</td>\n",
       "      <td>0.0</td>\n",
       "      <td>4.0</td>\n",
       "      <td>0.0</td>\n",
       "      <td>0.0</td>\n",
       "      <td>0.0</td>\n",
       "      <td>0.0</td>\n",
       "      <td>POLYGON ((-73.91129 40.91256, -73.91165 40.912...</td>\n",
       "    </tr>\n",
       "  </tbody>\n",
       "</table>\n",
       "</div>"
      ],
      "text/plain": [
       "   abfe_0_2pc fld_zone  gridcode   id  join_count  orig_fid  shape_area  \\\n",
       "0         0.0     None     900.0  2.0         0.0       0.0         0.0   \n",
       "1         0.0     None     900.0  4.0         0.0       1.0         0.0   \n",
       "2         0.0     None     900.0  5.0         0.0       2.0         0.0   \n",
       "3         0.0     None    1200.0  6.0         0.0       3.0         0.0   \n",
       "4         0.0     None    1200.0  7.0         0.0       4.0         0.0   \n",
       "\n",
       "   shape_leng  static_bfe  target_fid  \\\n",
       "0         0.0         0.0         0.0   \n",
       "1         0.0         0.0         0.0   \n",
       "2         0.0         0.0         0.0   \n",
       "3         0.0         0.0         0.0   \n",
       "4         0.0         0.0         0.0   \n",
       "\n",
       "                                            geometry  \n",
       "0  POLYGON ((-73.91020 40.91784, -73.91020 40.917...  \n",
       "1  POLYGON ((-73.90993 40.91544, -73.91016 40.915...  \n",
       "2  POLYGON ((-73.91147 40.91345, -73.91147 40.913...  \n",
       "3  POLYGON ((-73.91165 40.91283, -73.91875 40.912...  \n",
       "4  POLYGON ((-73.91129 40.91256, -73.91165 40.912...  "
      ]
     },
     "execution_count": 26,
     "metadata": {},
     "output_type": "execute_result"
    }
   ],
   "source": [
    "path = 'data/slr-rp100-y00.zip'\n",
    "slr_rp100_y00 = gpd.read_file(path)\n",
    "\n",
    "print('shape of data: {}'.format(slr_rp100_y00.shape))\n",
    "slr_rp100_y00.head()"
   ]
  },
  {
   "cell_type": "code",
   "execution_count": 27,
   "metadata": {},
   "outputs": [
    {
     "data": {
      "text/plain": [
       "<AxesSubplot:>"
      ]
     },
     "execution_count": 27,
     "metadata": {},
     "output_type": "execute_result"
    },
    {
     "data": {
      "image/png": "[encoded data removed]",
      "text/plain": [
       "<Figure size 432x288 with 1 Axes>"
      ]
     },
     "metadata": {
      "needs_background": "light"
     },
     "output_type": "display_data"
    }
   ],
   "source": [
    "slr_rp100_y00.plot()"
   ]
  },
  {
   "cell_type": "markdown",
   "metadata": {},
   "source": [
    "# Sea Level Rise Maps (2020s 500-year Floodplain)\n",
    "Source: https://data.cityofnewyork.us/Environment/Sea-Level-Rise-Maps-2020s-500-year-Floodplain-/ajyu-7sgg\n",
    "\n",
    "![slr-rp500-y00](images/slr-rp500-y00.png)"
   ]
  },
  {
   "cell_type": "code",
   "execution_count": 28,
   "metadata": {},
   "outputs": [
    {
     "name": "stdout",
     "output_type": "stream",
     "text": [
      "hurricane-zones.zip   slr-rp500-y00.zip     stormwater-y60.zip\r\n",
      "sandy-inundation.zip  stormwater-y00.zip\r\n",
      "slr-rp100-y00.zip     stormwater-y30.zip\r\n"
     ]
    }
   ],
   "source": [
    "# download url of dataset\n",
    "url = 'https://data.cityofnewyork.us/api/geospatial/ajyu-7sgg?method=export&format=Shapefile'\n",
    "data = 'data/'\n",
    "\n",
    "fullfilename = os.path.join(data, 'slr-rp500-y00.zip')\n",
    "urllib.request.urlretrieve(url, fullfilename)\n",
    "\n",
    "%ls data/"
   ]
  },
  {
   "cell_type": "code",
   "execution_count": 29,
   "metadata": {},
   "outputs": [
    {
     "name": "stdout",
     "output_type": "stream",
     "text": [
      "shape of data: (4484, 11)\n"
     ]
    },
    {
     "data": {
      "text/html": [
       "<div>\n",
       "<style scoped>\n",
       "    .dataframe tbody tr th:only-of-type {\n",
       "        vertical-align: middle;\n",
       "    }\n",
       "\n",
       "    .dataframe tbody tr th {\n",
       "        vertical-align: top;\n",
       "    }\n",
       "\n",
       "    .dataframe thead th {\n",
       "        text-align: right;\n",
       "    }\n",
       "</style>\n",
       "<table border=\"1\" class=\"dataframe\">\n",
       "  <thead>\n",
       "    <tr style=\"text-align: right;\">\n",
       "      <th></th>\n",
       "      <th>abfe_0_2pc</th>\n",
       "      <th>fld_zone</th>\n",
       "      <th>gridcode</th>\n",
       "      <th>id</th>\n",
       "      <th>join_count</th>\n",
       "      <th>orig_fid</th>\n",
       "      <th>shape_area</th>\n",
       "      <th>shape_leng</th>\n",
       "      <th>static_bfe</th>\n",
       "      <th>target_fid</th>\n",
       "      <th>geometry</th>\n",
       "    </tr>\n",
       "  </thead>\n",
       "  <tbody>\n",
       "    <tr>\n",
       "      <th>0</th>\n",
       "      <td>21.0</td>\n",
       "      <td>VE</td>\n",
       "      <td>0.0</td>\n",
       "      <td>0.0</td>\n",
       "      <td>2.0</td>\n",
       "      <td>0.0</td>\n",
       "      <td>2.064166e+05</td>\n",
       "      <td>4114.613930</td>\n",
       "      <td>15.0</td>\n",
       "      <td>1.0</td>\n",
       "      <td>POLYGON ((-74.24026 40.49848, -74.24049 40.498...</td>\n",
       "    </tr>\n",
       "    <tr>\n",
       "      <th>1</th>\n",
       "      <td>19.0</td>\n",
       "      <td>AE</td>\n",
       "      <td>0.0</td>\n",
       "      <td>0.0</td>\n",
       "      <td>3.0</td>\n",
       "      <td>0.0</td>\n",
       "      <td>8.166030e+05</td>\n",
       "      <td>8607.972908</td>\n",
       "      <td>15.0</td>\n",
       "      <td>2.0</td>\n",
       "      <td>POLYGON ((-74.25101 40.49952, -74.25092 40.499...</td>\n",
       "    </tr>\n",
       "    <tr>\n",
       "      <th>2</th>\n",
       "      <td>19.0</td>\n",
       "      <td>AE</td>\n",
       "      <td>0.0</td>\n",
       "      <td>0.0</td>\n",
       "      <td>4.0</td>\n",
       "      <td>0.0</td>\n",
       "      <td>1.065738e+06</td>\n",
       "      <td>11729.390969</td>\n",
       "      <td>14.0</td>\n",
       "      <td>4.0</td>\n",
       "      <td>POLYGON ((-74.23614 40.50175, -74.23608 40.501...</td>\n",
       "    </tr>\n",
       "    <tr>\n",
       "      <th>3</th>\n",
       "      <td>0.0</td>\n",
       "      <td>None</td>\n",
       "      <td>1800.0</td>\n",
       "      <td>490.0</td>\n",
       "      <td>0.0</td>\n",
       "      <td>193.0</td>\n",
       "      <td>0.000000e+00</td>\n",
       "      <td>0.000000</td>\n",
       "      <td>0.0</td>\n",
       "      <td>0.0</td>\n",
       "      <td>POLYGON ((-73.82391 40.84617, -73.82409 40.846...</td>\n",
       "    </tr>\n",
       "    <tr>\n",
       "      <th>4</th>\n",
       "      <td>19.0</td>\n",
       "      <td>AE</td>\n",
       "      <td>0.0</td>\n",
       "      <td>0.0</td>\n",
       "      <td>1.0</td>\n",
       "      <td>0.0</td>\n",
       "      <td>6.331414e+05</td>\n",
       "      <td>10307.116230</td>\n",
       "      <td>13.0</td>\n",
       "      <td>3.0</td>\n",
       "      <td>POLYGON ((-74.24040 40.50129, -74.24032 40.501...</td>\n",
       "    </tr>\n",
       "  </tbody>\n",
       "</table>\n",
       "</div>"
      ],
      "text/plain": [
       "   abfe_0_2pc fld_zone  gridcode     id  join_count  orig_fid    shape_area  \\\n",
       "0        21.0       VE       0.0    0.0         2.0       0.0  2.064166e+05   \n",
       "1        19.0       AE       0.0    0.0         3.0       0.0  8.166030e+05   \n",
       "2        19.0       AE       0.0    0.0         4.0       0.0  1.065738e+06   \n",
       "3         0.0     None    1800.0  490.0         0.0     193.0  0.000000e+00   \n",
       "4        19.0       AE       0.0    0.0         1.0       0.0  6.331414e+05   \n",
       "\n",
       "     shape_leng  static_bfe  target_fid  \\\n",
       "0   4114.613930        15.0         1.0   \n",
       "1   8607.972908        15.0         2.0   \n",
       "2  11729.390969        14.0         4.0   \n",
       "3      0.000000         0.0         0.0   \n",
       "4  10307.116230        13.0         3.0   \n",
       "\n",
       "                                            geometry  \n",
       "0  POLYGON ((-74.24026 40.49848, -74.24049 40.498...  \n",
       "1  POLYGON ((-74.25101 40.49952, -74.25092 40.499...  \n",
       "2  POLYGON ((-74.23614 40.50175, -74.23608 40.501...  \n",
       "3  POLYGON ((-73.82391 40.84617, -73.82409 40.846...  \n",
       "4  POLYGON ((-74.24040 40.50129, -74.24032 40.501...  "
      ]
     },
     "execution_count": 29,
     "metadata": {},
     "output_type": "execute_result"
    }
   ],
   "source": [
    "path = 'data/slr-rp500-y00.zip'\n",
    "slr_rp500_y00 = gpd.read_file(path)\n",
    "\n",
    "print('shape of data: {}'.format(slr_rp500_y00.shape))\n",
    "slr_rp500_y00.head()"
   ]
  },
  {
   "cell_type": "code",
   "execution_count": 30,
   "metadata": {},
   "outputs": [
    {
     "data": {
      "text/plain": [
       "<AxesSubplot:>"
      ]
     },
     "execution_count": 30,
     "metadata": {},
     "output_type": "execute_result"
    },
    {
     "data": {
      "image/png": "[encoded data removed]",
      "text/plain": [
       "<Figure size 432x288 with 1 Axes>"
      ]
     },
     "metadata": {
      "needs_background": "light"
     },
     "output_type": "display_data"
    }
   ],
   "source": [
    "slr_rp500_y00.plot()"
   ]
  },
  {
   "cell_type": "markdown",
   "metadata": {},
   "source": [
    "# Sea Level Rise Maps (2050s 100-year Floodplain)\n",
    "Source: https://data.cityofnewyork.us/Environment/Sea-Level-Rise-Maps-2050s-100-year-Floodplain-/hbw8-2bah\n",
    "\n",
    "![slr-rp100-y30](images/slr-rp100-y30.png)"
   ]
  },
  {
   "cell_type": "code",
   "execution_count": 31,
   "metadata": {},
   "outputs": [
    {
     "name": "stdout",
     "output_type": "stream",
     "text": [
      "hurricane-zones.zip   slr-rp100-y30.zip     stormwater-y30.zip\r\n",
      "sandy-inundation.zip  slr-rp500-y00.zip     stormwater-y60.zip\r\n",
      "slr-rp100-y00.zip     stormwater-y00.zip\r\n"
     ]
    }
   ],
   "source": [
    "# download url of dataset\n",
    "url = 'https://data.cityofnewyork.us/api/geospatial/hbw8-2bah?method=export&format=Shapefile'\n",
    "data = 'data/'\n",
    "\n",
    "fullfilename = os.path.join(data, 'slr-rp100-y30.zip')\n",
    "urllib.request.urlretrieve(url, fullfilename)\n",
    "\n",
    "%ls data/"
   ]
  },
  {
   "cell_type": "code",
   "execution_count": 32,
   "metadata": {},
   "outputs": [
    {
     "name": "stdout",
     "output_type": "stream",
     "text": [
      "shape of data: (10611, 8)\n"
     ]
    },
    {
     "data": {
      "text/html": [
       "<div>\n",
       "<style scoped>\n",
       "    .dataframe tbody tr th:only-of-type {\n",
       "        vertical-align: middle;\n",
       "    }\n",
       "\n",
       "    .dataframe tbody tr th {\n",
       "        vertical-align: top;\n",
       "    }\n",
       "\n",
       "    .dataframe thead th {\n",
       "        text-align: right;\n",
       "    }\n",
       "</style>\n",
       "<table border=\"1\" class=\"dataframe\">\n",
       "  <thead>\n",
       "    <tr style=\"text-align: right;\">\n",
       "      <th></th>\n",
       "      <th>abfe_0_2pc</th>\n",
       "      <th>fld_zone</th>\n",
       "      <th>gridcode</th>\n",
       "      <th>join_count</th>\n",
       "      <th>shape_area</th>\n",
       "      <th>shape_leng</th>\n",
       "      <th>static_bfe</th>\n",
       "      <th>geometry</th>\n",
       "    </tr>\n",
       "  </thead>\n",
       "  <tbody>\n",
       "    <tr>\n",
       "      <th>0</th>\n",
       "      <td>0.0</td>\n",
       "      <td>None</td>\n",
       "      <td>900.0</td>\n",
       "      <td>0.0</td>\n",
       "      <td>0.0</td>\n",
       "      <td>0.0</td>\n",
       "      <td>0.0</td>\n",
       "      <td>MULTIPOLYGON (((-73.90993 40.91544, -73.91000 ...</td>\n",
       "    </tr>\n",
       "    <tr>\n",
       "      <th>1</th>\n",
       "      <td>0.0</td>\n",
       "      <td>None</td>\n",
       "      <td>900.0</td>\n",
       "      <td>0.0</td>\n",
       "      <td>0.0</td>\n",
       "      <td>0.0</td>\n",
       "      <td>0.0</td>\n",
       "      <td>POLYGON ((-73.91138 40.91338, -73.91147 40.913...</td>\n",
       "    </tr>\n",
       "    <tr>\n",
       "      <th>2</th>\n",
       "      <td>0.0</td>\n",
       "      <td>None</td>\n",
       "      <td>1200.0</td>\n",
       "      <td>0.0</td>\n",
       "      <td>0.0</td>\n",
       "      <td>0.0</td>\n",
       "      <td>0.0</td>\n",
       "      <td>MULTIPOLYGON (((-73.91019 40.92018, -73.91126 ...</td>\n",
       "    </tr>\n",
       "    <tr>\n",
       "      <th>3</th>\n",
       "      <td>0.0</td>\n",
       "      <td>None</td>\n",
       "      <td>900.0</td>\n",
       "      <td>0.0</td>\n",
       "      <td>0.0</td>\n",
       "      <td>0.0</td>\n",
       "      <td>0.0</td>\n",
       "      <td>MULTIPOLYGON (((-73.91103 40.91260, -73.91101 ...</td>\n",
       "    </tr>\n",
       "    <tr>\n",
       "      <th>4</th>\n",
       "      <td>0.0</td>\n",
       "      <td>None</td>\n",
       "      <td>1200.0</td>\n",
       "      <td>0.0</td>\n",
       "      <td>0.0</td>\n",
       "      <td>0.0</td>\n",
       "      <td>0.0</td>\n",
       "      <td>POLYGON ((-73.91358 40.91144, -73.91368 40.911...</td>\n",
       "    </tr>\n",
       "  </tbody>\n",
       "</table>\n",
       "</div>"
      ],
      "text/plain": [
       "   abfe_0_2pc fld_zone  gridcode  join_count  shape_area  shape_leng  \\\n",
       "0         0.0     None     900.0         0.0         0.0         0.0   \n",
       "1         0.0     None     900.0         0.0         0.0         0.0   \n",
       "2         0.0     None    1200.0         0.0         0.0         0.0   \n",
       "3         0.0     None     900.0         0.0         0.0         0.0   \n",
       "4         0.0     None    1200.0         0.0         0.0         0.0   \n",
       "\n",
       "   static_bfe                                           geometry  \n",
       "0         0.0  MULTIPOLYGON (((-73.90993 40.91544, -73.91000 ...  \n",
       "1         0.0  POLYGON ((-73.91138 40.91338, -73.91147 40.913...  \n",
       "2         0.0  MULTIPOLYGON (((-73.91019 40.92018, -73.91126 ...  \n",
       "3         0.0  MULTIPOLYGON (((-73.91103 40.91260, -73.91101 ...  \n",
       "4         0.0  POLYGON ((-73.91358 40.91144, -73.91368 40.911...  "
      ]
     },
     "execution_count": 32,
     "metadata": {},
     "output_type": "execute_result"
    }
   ],
   "source": [
    "path = 'data/slr-rp100-y30.zip'\n",
    "slr_rp100_y30 = gpd.read_file(path)\n",
    "\n",
    "print('shape of data: {}'.format(slr_rp100_y30.shape))\n",
    "slr_rp100_y30.head()"
   ]
  },
  {
   "cell_type": "code",
   "execution_count": 33,
   "metadata": {},
   "outputs": [
    {
     "data": {
      "text/plain": [
       "<AxesSubplot:>"
      ]
     },
     "execution_count": 33,
     "metadata": {},
     "output_type": "execute_result"
    },
    {
     "data": {
      "image/png": "[encoded data removed]",
      "text/plain": [
       "<Figure size 432x288 with 1 Axes>"
      ]
     },
     "metadata": {
      "needs_background": "light"
     },
     "output_type": "display_data"
    }
   ],
   "source": [
    "slr_rp100_y30.plot()"
   ]
  },
  {
   "cell_type": "markdown",
   "metadata": {},
   "source": [
    "# Sea Level Rise Maps (2050s 500-year Floodplain)\n",
    "Source: https://data.cityofnewyork.us/Environment/Sea-Level-Rise-Maps-2050s-500-year-Floodplain-/qwca-zqw3\n",
    "\n",
    "![slr-rp500-y30](images/slr-rp500-y30.png)"
   ]
  },
  {
   "cell_type": "code",
   "execution_count": 34,
   "metadata": {},
   "outputs": [
    {
     "name": "stdout",
     "output_type": "stream",
     "text": [
      "hurricane-zones.zip   slr-rp100-y30.zip     stormwater-y00.zip\r\n",
      "sandy-inundation.zip  slr-rp500-y00.zip     stormwater-y30.zip\r\n",
      "slr-rp100-y00.zip     slr-rp500-y30.zip     stormwater-y60.zip\r\n"
     ]
    }
   ],
   "source": [
    "# download url of dataset\n",
    "url = 'https://data.cityofnewyork.us/api/geospatial/qwca-zqw3?method=export&format=Shapefile'\n",
    "data = 'data/'\n",
    "\n",
    "fullfilename = os.path.join(data, 'slr-rp500-y30.zip')\n",
    "urllib.request.urlretrieve(url, fullfilename)\n",
    "\n",
    "%ls data/"
   ]
  },
  {
   "cell_type": "code",
   "execution_count": 35,
   "metadata": {},
   "outputs": [
    {
     "name": "stdout",
     "output_type": "stream",
     "text": [
      "shape of data: (7055, 8)\n"
     ]
    },
    {
     "data": {
      "text/html": [
       "<div>\n",
       "<style scoped>\n",
       "    .dataframe tbody tr th:only-of-type {\n",
       "        vertical-align: middle;\n",
       "    }\n",
       "\n",
       "    .dataframe tbody tr th {\n",
       "        vertical-align: top;\n",
       "    }\n",
       "\n",
       "    .dataframe thead th {\n",
       "        text-align: right;\n",
       "    }\n",
       "</style>\n",
       "<table border=\"1\" class=\"dataframe\">\n",
       "  <thead>\n",
       "    <tr style=\"text-align: right;\">\n",
       "      <th></th>\n",
       "      <th>abfe_0_2pc</th>\n",
       "      <th>fld_zone</th>\n",
       "      <th>gridcode</th>\n",
       "      <th>join_count</th>\n",
       "      <th>shape_area</th>\n",
       "      <th>shape_leng</th>\n",
       "      <th>static_bfe</th>\n",
       "      <th>geometry</th>\n",
       "    </tr>\n",
       "  </thead>\n",
       "  <tbody>\n",
       "    <tr>\n",
       "      <th>0</th>\n",
       "      <td>0.0</td>\n",
       "      <td>None</td>\n",
       "      <td>1500.0</td>\n",
       "      <td>0.0</td>\n",
       "      <td>0.0</td>\n",
       "      <td>0.0</td>\n",
       "      <td>0.0</td>\n",
       "      <td>POLYGON ((-73.90993 40.91517, -73.91010 40.915...</td>\n",
       "    </tr>\n",
       "    <tr>\n",
       "      <th>1</th>\n",
       "      <td>0.0</td>\n",
       "      <td>None</td>\n",
       "      <td>1300.0</td>\n",
       "      <td>0.0</td>\n",
       "      <td>0.0</td>\n",
       "      <td>0.0</td>\n",
       "      <td>0.0</td>\n",
       "      <td>POLYGON ((-73.88825 40.89957, -73.88801 40.899...</td>\n",
       "    </tr>\n",
       "    <tr>\n",
       "      <th>2</th>\n",
       "      <td>0.0</td>\n",
       "      <td>None</td>\n",
       "      <td>1300.0</td>\n",
       "      <td>0.0</td>\n",
       "      <td>0.0</td>\n",
       "      <td>0.0</td>\n",
       "      <td>0.0</td>\n",
       "      <td>POLYGON ((-73.88852 40.89902, -73.88846 40.899...</td>\n",
       "    </tr>\n",
       "    <tr>\n",
       "      <th>3</th>\n",
       "      <td>0.0</td>\n",
       "      <td>None</td>\n",
       "      <td>1300.0</td>\n",
       "      <td>0.0</td>\n",
       "      <td>0.0</td>\n",
       "      <td>0.0</td>\n",
       "      <td>0.0</td>\n",
       "      <td>POLYGON ((-73.88861 40.89875, -73.88861 40.899...</td>\n",
       "    </tr>\n",
       "    <tr>\n",
       "      <th>4</th>\n",
       "      <td>0.0</td>\n",
       "      <td>None</td>\n",
       "      <td>1300.0</td>\n",
       "      <td>0.0</td>\n",
       "      <td>0.0</td>\n",
       "      <td>0.0</td>\n",
       "      <td>0.0</td>\n",
       "      <td>POLYGON ((-73.88861 40.89861, -73.88874 40.898...</td>\n",
       "    </tr>\n",
       "  </tbody>\n",
       "</table>\n",
       "</div>"
      ],
      "text/plain": [
       "   abfe_0_2pc fld_zone  gridcode  join_count  shape_area  shape_leng  \\\n",
       "0         0.0     None    1500.0         0.0         0.0         0.0   \n",
       "1         0.0     None    1300.0         0.0         0.0         0.0   \n",
       "2         0.0     None    1300.0         0.0         0.0         0.0   \n",
       "3         0.0     None    1300.0         0.0         0.0         0.0   \n",
       "4         0.0     None    1300.0         0.0         0.0         0.0   \n",
       "\n",
       "   static_bfe                                           geometry  \n",
       "0         0.0  POLYGON ((-73.90993 40.91517, -73.91010 40.915...  \n",
       "1         0.0  POLYGON ((-73.88825 40.89957, -73.88801 40.899...  \n",
       "2         0.0  POLYGON ((-73.88852 40.89902, -73.88846 40.899...  \n",
       "3         0.0  POLYGON ((-73.88861 40.89875, -73.88861 40.899...  \n",
       "4         0.0  POLYGON ((-73.88861 40.89861, -73.88874 40.898...  "
      ]
     },
     "execution_count": 35,
     "metadata": {},
     "output_type": "execute_result"
    }
   ],
   "source": [
    "path = 'data/slr-rp500-y30.zip'\n",
    "slr_rp500_y30 = gpd.read_file(path)\n",
    "\n",
    "print('shape of data: {}'.format(slr_rp500_y30.shape))\n",
    "slr_rp500_y30.head()"
   ]
  },
  {
   "cell_type": "code",
   "execution_count": 37,
   "metadata": {},
   "outputs": [
    {
     "data": {
      "text/plain": [
       "<AxesSubplot:>"
      ]
     },
     "execution_count": 37,
     "metadata": {},
     "output_type": "execute_result"
    },
    {
     "data": {
      "image/png": "[encoded data removed]",
      "text/plain": [
       "<Figure size 432x288 with 1 Axes>"
      ]
     },
     "metadata": {
      "needs_background": "light"
     },
     "output_type": "display_data"
    }
   ],
   "source": [
    "slr_rp500_y30.plot()"
   ]
  },
  {
   "cell_type": "markdown",
   "metadata": {},
   "source": [
    "# New York City Effective Flood Insurance Rate Map (FIRM)\n",
    "Source: https://msc.fema.gov/portal/advanceSearch\n",
    "\n",
    "![fema-firm](images/fema-firm.png)"
   ]
  },
  {
   "cell_type": "code",
   "execution_count": 38,
   "metadata": {},
   "outputs": [
    {
     "name": "stdout",
     "output_type": "stream",
     "text": [
      "fema-firm.zip         slr-rp100-y30.zip     stormwater-y30.zip\r\n",
      "hurricane-zones.zip   slr-rp500-y00.zip     stormwater-y60.zip\r\n",
      "sandy-inundation.zip  slr-rp500-y30.zip\r\n",
      "slr-rp100-y00.zip     stormwater-y00.zip\r\n"
     ]
    }
   ],
   "source": [
    "# url path from the web\n",
    "url = 'https://msc.fema.gov/portal/downloadProduct?productID=NFHL_360497'\n",
    "data = 'data/'\n",
    "\n",
    "fullfilename = os.path.join(data, 'fema-firm.zip')\n",
    "urllib.request.urlretrieve(url, fullfilename)\n",
    "\n",
    "%ls data/"
   ]
  },
  {
   "cell_type": "code",
   "execution_count": 39,
   "metadata": {},
   "outputs": [
    {
     "data": {
      "text/html": [
       "<div>\n",
       "<style scoped>\n",
       "    .dataframe tbody tr th:only-of-type {\n",
       "        vertical-align: middle;\n",
       "    }\n",
       "\n",
       "    .dataframe tbody tr th {\n",
       "        vertical-align: top;\n",
       "    }\n",
       "\n",
       "    .dataframe thead th {\n",
       "        text-align: right;\n",
       "    }\n",
       "</style>\n",
       "<table border=\"1\" class=\"dataframe\">\n",
       "  <thead>\n",
       "    <tr style=\"text-align: right;\">\n",
       "      <th></th>\n",
       "      <th>DFIRM_ID</th>\n",
       "      <th>VERSION_ID</th>\n",
       "      <th>FLD_AR_ID</th>\n",
       "      <th>STUDY_TYP</th>\n",
       "      <th>FLD_ZONE</th>\n",
       "      <th>ZONE_SUBTY</th>\n",
       "      <th>SFHA_TF</th>\n",
       "      <th>STATIC_BFE</th>\n",
       "      <th>V_DATUM</th>\n",
       "      <th>DEPTH</th>\n",
       "      <th>LEN_UNIT</th>\n",
       "      <th>VELOCITY</th>\n",
       "      <th>VEL_UNIT</th>\n",
       "      <th>AR_REVERT</th>\n",
       "      <th>AR_SUBTRV</th>\n",
       "      <th>BFE_REVERT</th>\n",
       "      <th>DEP_REVERT</th>\n",
       "      <th>DUAL_ZONE</th>\n",
       "      <th>SOURCE_CIT</th>\n",
       "      <th>geometry</th>\n",
       "    </tr>\n",
       "  </thead>\n",
       "  <tbody>\n",
       "    <tr>\n",
       "      <th>0</th>\n",
       "      <td>360497</td>\n",
       "      <td>1.1.1.0</td>\n",
       "      <td>360497_1</td>\n",
       "      <td>NP</td>\n",
       "      <td>X</td>\n",
       "      <td>AREA OF MINIMAL FLOOD HAZARD</td>\n",
       "      <td>F</td>\n",
       "      <td>-9999.0</td>\n",
       "      <td>None</td>\n",
       "      <td>-9999.0</td>\n",
       "      <td>None</td>\n",
       "      <td>-9999.0</td>\n",
       "      <td>None</td>\n",
       "      <td>None</td>\n",
       "      <td>None</td>\n",
       "      <td>-9999.0</td>\n",
       "      <td>-9999.0</td>\n",
       "      <td>None</td>\n",
       "      <td>360497_FIS1</td>\n",
       "      <td>POLYGON ((-73.90080 40.56112, -73.90083 40.561...</td>\n",
       "    </tr>\n",
       "    <tr>\n",
       "      <th>1</th>\n",
       "      <td>360497</td>\n",
       "      <td>1.1.1.0</td>\n",
       "      <td>360497_2</td>\n",
       "      <td>NP</td>\n",
       "      <td>X</td>\n",
       "      <td>AREA OF MINIMAL FLOOD HAZARD</td>\n",
       "      <td>F</td>\n",
       "      <td>-9999.0</td>\n",
       "      <td>None</td>\n",
       "      <td>-9999.0</td>\n",
       "      <td>None</td>\n",
       "      <td>-9999.0</td>\n",
       "      <td>None</td>\n",
       "      <td>None</td>\n",
       "      <td>None</td>\n",
       "      <td>-9999.0</td>\n",
       "      <td>-9999.0</td>\n",
       "      <td>None</td>\n",
       "      <td>360497_FIS1</td>\n",
       "      <td>POLYGON ((-73.83838 40.76860, -73.83847 40.768...</td>\n",
       "    </tr>\n",
       "    <tr>\n",
       "      <th>2</th>\n",
       "      <td>360497</td>\n",
       "      <td>1.1.1.0</td>\n",
       "      <td>360497_3</td>\n",
       "      <td>NP</td>\n",
       "      <td>X</td>\n",
       "      <td>0.2 PCT ANNUAL CHANCE FLOOD HAZARD</td>\n",
       "      <td>F</td>\n",
       "      <td>-9999.0</td>\n",
       "      <td>None</td>\n",
       "      <td>-9999.0</td>\n",
       "      <td>None</td>\n",
       "      <td>-9999.0</td>\n",
       "      <td>None</td>\n",
       "      <td>None</td>\n",
       "      <td>None</td>\n",
       "      <td>-9999.0</td>\n",
       "      <td>-9999.0</td>\n",
       "      <td>None</td>\n",
       "      <td>360497_FIS1</td>\n",
       "      <td>POLYGON ((-73.79485 40.59911, -73.79482 40.599...</td>\n",
       "    </tr>\n",
       "    <tr>\n",
       "      <th>3</th>\n",
       "      <td>360497</td>\n",
       "      <td>1.1.1.0</td>\n",
       "      <td>360497_4</td>\n",
       "      <td>NP</td>\n",
       "      <td>X</td>\n",
       "      <td>AREA OF MINIMAL FLOOD HAZARD</td>\n",
       "      <td>F</td>\n",
       "      <td>-9999.0</td>\n",
       "      <td>None</td>\n",
       "      <td>-9999.0</td>\n",
       "      <td>None</td>\n",
       "      <td>-9999.0</td>\n",
       "      <td>None</td>\n",
       "      <td>None</td>\n",
       "      <td>None</td>\n",
       "      <td>-9999.0</td>\n",
       "      <td>-9999.0</td>\n",
       "      <td>None</td>\n",
       "      <td>360497_FIS1</td>\n",
       "      <td>POLYGON ((-73.91605 40.61201, -73.91602 40.612...</td>\n",
       "    </tr>\n",
       "    <tr>\n",
       "      <th>4</th>\n",
       "      <td>360497</td>\n",
       "      <td>1.1.1.0</td>\n",
       "      <td>360497_5</td>\n",
       "      <td>NP</td>\n",
       "      <td>AE</td>\n",
       "      <td>None</td>\n",
       "      <td>T</td>\n",
       "      <td>14.0</td>\n",
       "      <td>NGVD29</td>\n",
       "      <td>-9999.0</td>\n",
       "      <td>Feet</td>\n",
       "      <td>-9999.0</td>\n",
       "      <td>None</td>\n",
       "      <td>None</td>\n",
       "      <td>None</td>\n",
       "      <td>-9999.0</td>\n",
       "      <td>-9999.0</td>\n",
       "      <td>None</td>\n",
       "      <td>360497_FIS1</td>\n",
       "      <td>POLYGON ((-73.75019 40.78220, -73.75023 40.782...</td>\n",
       "    </tr>\n",
       "  </tbody>\n",
       "</table>\n",
       "</div>"
      ],
      "text/plain": [
       "  DFIRM_ID VERSION_ID FLD_AR_ID STUDY_TYP FLD_ZONE  \\\n",
       "0   360497    1.1.1.0  360497_1        NP        X   \n",
       "1   360497    1.1.1.0  360497_2        NP        X   \n",
       "2   360497    1.1.1.0  360497_3        NP        X   \n",
       "3   360497    1.1.1.0  360497_4        NP        X   \n",
       "4   360497    1.1.1.0  360497_5        NP       AE   \n",
       "\n",
       "                           ZONE_SUBTY SFHA_TF  STATIC_BFE V_DATUM   DEPTH  \\\n",
       "0        AREA OF MINIMAL FLOOD HAZARD       F     -9999.0    None -9999.0   \n",
       "1        AREA OF MINIMAL FLOOD HAZARD       F     -9999.0    None -9999.0   \n",
       "2  0.2 PCT ANNUAL CHANCE FLOOD HAZARD       F     -9999.0    None -9999.0   \n",
       "3        AREA OF MINIMAL FLOOD HAZARD       F     -9999.0    None -9999.0   \n",
       "4                                None       T        14.0  NGVD29 -9999.0   \n",
       "\n",
       "  LEN_UNIT  VELOCITY VEL_UNIT AR_REVERT AR_SUBTRV  BFE_REVERT  DEP_REVERT  \\\n",
       "0     None   -9999.0     None      None      None     -9999.0     -9999.0   \n",
       "1     None   -9999.0     None      None      None     -9999.0     -9999.0   \n",
       "2     None   -9999.0     None      None      None     -9999.0     -9999.0   \n",
       "3     None   -9999.0     None      None      None     -9999.0     -9999.0   \n",
       "4     Feet   -9999.0     None      None      None     -9999.0     -9999.0   \n",
       "\n",
       "  DUAL_ZONE   SOURCE_CIT                                           geometry  \n",
       "0      None  360497_FIS1  POLYGON ((-73.90080 40.56112, -73.90083 40.561...  \n",
       "1      None  360497_FIS1  POLYGON ((-73.83838 40.76860, -73.83847 40.768...  \n",
       "2      None  360497_FIS1  POLYGON ((-73.79485 40.59911, -73.79482 40.599...  \n",
       "3      None  360497_FIS1  POLYGON ((-73.91605 40.61201, -73.91602 40.612...  \n",
       "4      None  360497_FIS1  POLYGON ((-73.75019 40.78220, -73.75023 40.782...  "
      ]
     },
     "execution_count": 39,
     "metadata": {},
     "output_type": "execute_result"
    }
   ],
   "source": [
    "# reading in shape file\n",
    "path = 'data/fema-firm.zip!S_FLD_HAZ_AR.shp'\n",
    "firm_gdf = gpd.read_file(path)\n",
    "\n",
    "# previewing first five rows of data\n",
    "firm_gdf.head()"
   ]
  },
  {
   "cell_type": "code",
   "execution_count": 40,
   "metadata": {},
   "outputs": [
    {
     "data": {
      "text/plain": [
       "<AxesSubplot:>"
      ]
     },
     "execution_count": 40,
     "metadata": {},
     "output_type": "execute_result"
    },
    {
     "data": {
      "image/png": "[encoded data removed]",
      "text/plain": [
       "<Figure size 432x288 with 1 Axes>"
      ]
     },
     "metadata": {
      "needs_background": "light"
     },
     "output_type": "display_data"
    }
   ],
   "source": [
    "firm_gdf.plot()"
   ]
  },
  {
   "cell_type": "markdown",
   "metadata": {},
   "source": [
    "# New York City Preliminary Flood Insurance Rate Map (PFIRM)\n",
    "Source: https://r2-coastal-fema.hub.arcgis.com/pages/preliminary-flood-map-data\n",
    "\n",
    "![fema-pfirm](images/fema-pfirm.png)"
   ]
  },
  {
   "cell_type": "code",
   "execution_count": 41,
   "metadata": {},
   "outputs": [
    {
     "name": "stdout",
     "output_type": "stream",
     "text": [
      "fema-firm.zip         slr-rp100-y00.zip     stormwater-y00.zip\r\n",
      "fema-pfirm.zip        slr-rp100-y30.zip     stormwater-y30.zip\r\n",
      "hurricane-zones.zip   slr-rp500-y00.zip     stormwater-y60.zip\r\n",
      "sandy-inundation.zip  slr-rp500-y30.zip\r\n"
     ]
    }
   ],
   "source": [
    "# url path from the web\n",
    "url = 'https://msc.fema.gov/portal/downloadProduct?productID=360497_PRELIMDB'\n",
    "data = 'data/'\n",
    "\n",
    "fullfilename = os.path.join(data, 'fema-pfirm.zip')\n",
    "urllib.request.urlretrieve(url, fullfilename)\n",
    "\n",
    "%ls data/"
   ]
  },
  {
   "cell_type": "code",
   "execution_count": 42,
   "metadata": {},
   "outputs": [
    {
     "data": {
      "text/html": [
       "<div>\n",
       "<style scoped>\n",
       "    .dataframe tbody tr th:only-of-type {\n",
       "        vertical-align: middle;\n",
       "    }\n",
       "\n",
       "    .dataframe tbody tr th {\n",
       "        vertical-align: top;\n",
       "    }\n",
       "\n",
       "    .dataframe thead th {\n",
       "        text-align: right;\n",
       "    }\n",
       "</style>\n",
       "<table border=\"1\" class=\"dataframe\">\n",
       "  <thead>\n",
       "    <tr style=\"text-align: right;\">\n",
       "      <th></th>\n",
       "      <th>FLD_AR_ID</th>\n",
       "      <th>FLD_ZONE</th>\n",
       "      <th>FLOODWAY</th>\n",
       "      <th>SFHA_TF</th>\n",
       "      <th>STATIC_BFE</th>\n",
       "      <th>V_DATUM</th>\n",
       "      <th>DEPTH</th>\n",
       "      <th>LEN_UNIT</th>\n",
       "      <th>VELOCITY</th>\n",
       "      <th>VEL_UNIT</th>\n",
       "      <th>AR_REVERT</th>\n",
       "      <th>BFE_REVERT</th>\n",
       "      <th>DEP_REVERT</th>\n",
       "      <th>SOURCE_CIT</th>\n",
       "      <th>geometry</th>\n",
       "    </tr>\n",
       "  </thead>\n",
       "  <tbody>\n",
       "    <tr>\n",
       "      <th>0</th>\n",
       "      <td>81</td>\n",
       "      <td>AE</td>\n",
       "      <td>None</td>\n",
       "      <td>T</td>\n",
       "      <td>13.0</td>\n",
       "      <td>NAVD88</td>\n",
       "      <td>-9999.0</td>\n",
       "      <td>FEET</td>\n",
       "      <td>-9999.0</td>\n",
       "      <td>None</td>\n",
       "      <td>None</td>\n",
       "      <td>-9999.0</td>\n",
       "      <td>-9999.0</td>\n",
       "      <td>STUDY4</td>\n",
       "      <td>POLYGON ((1032001.691 263867.839, 1032006.047 ...</td>\n",
       "    </tr>\n",
       "    <tr>\n",
       "      <th>1</th>\n",
       "      <td>82</td>\n",
       "      <td>X</td>\n",
       "      <td>None</td>\n",
       "      <td>F</td>\n",
       "      <td>-9999.0</td>\n",
       "      <td>None</td>\n",
       "      <td>-9999.0</td>\n",
       "      <td>None</td>\n",
       "      <td>-9999.0</td>\n",
       "      <td>None</td>\n",
       "      <td>None</td>\n",
       "      <td>-9999.0</td>\n",
       "      <td>-9999.0</td>\n",
       "      <td>STUDY4</td>\n",
       "      <td>POLYGON ((1033748.952 263778.464, 1033752.656 ...</td>\n",
       "    </tr>\n",
       "    <tr>\n",
       "      <th>2</th>\n",
       "      <td>83</td>\n",
       "      <td>0.2 PCT ANNUAL CHANCE FLOOD HAZARD</td>\n",
       "      <td>None</td>\n",
       "      <td>F</td>\n",
       "      <td>-9999.0</td>\n",
       "      <td>None</td>\n",
       "      <td>-9999.0</td>\n",
       "      <td>None</td>\n",
       "      <td>-9999.0</td>\n",
       "      <td>None</td>\n",
       "      <td>None</td>\n",
       "      <td>-9999.0</td>\n",
       "      <td>-9999.0</td>\n",
       "      <td>STUDY4</td>\n",
       "      <td>POLYGON ((1033309.701 263544.181, 1033322.210 ...</td>\n",
       "    </tr>\n",
       "    <tr>\n",
       "      <th>3</th>\n",
       "      <td>84</td>\n",
       "      <td>0.2 PCT ANNUAL CHANCE FLOOD HAZARD</td>\n",
       "      <td>None</td>\n",
       "      <td>F</td>\n",
       "      <td>-9999.0</td>\n",
       "      <td>None</td>\n",
       "      <td>-9999.0</td>\n",
       "      <td>None</td>\n",
       "      <td>-9999.0</td>\n",
       "      <td>None</td>\n",
       "      <td>None</td>\n",
       "      <td>-9999.0</td>\n",
       "      <td>-9999.0</td>\n",
       "      <td>STUDY4</td>\n",
       "      <td>POLYGON ((1033414.148 262658.868, 1033414.934 ...</td>\n",
       "    </tr>\n",
       "    <tr>\n",
       "      <th>4</th>\n",
       "      <td>85</td>\n",
       "      <td>0.2 PCT ANNUAL CHANCE FLOOD HAZARD</td>\n",
       "      <td>None</td>\n",
       "      <td>F</td>\n",
       "      <td>-9999.0</td>\n",
       "      <td>None</td>\n",
       "      <td>-9999.0</td>\n",
       "      <td>None</td>\n",
       "      <td>-9999.0</td>\n",
       "      <td>None</td>\n",
       "      <td>None</td>\n",
       "      <td>-9999.0</td>\n",
       "      <td>-9999.0</td>\n",
       "      <td>STUDY4</td>\n",
       "      <td>POLYGON ((1034089.115 262466.034, 1034089.402 ...</td>\n",
       "    </tr>\n",
       "  </tbody>\n",
       "</table>\n",
       "</div>"
      ],
      "text/plain": [
       "  FLD_AR_ID                            FLD_ZONE FLOODWAY SFHA_TF  STATIC_BFE  \\\n",
       "0        81                                  AE     None       T        13.0   \n",
       "1        82                                   X     None       F     -9999.0   \n",
       "2        83  0.2 PCT ANNUAL CHANCE FLOOD HAZARD     None       F     -9999.0   \n",
       "3        84  0.2 PCT ANNUAL CHANCE FLOOD HAZARD     None       F     -9999.0   \n",
       "4        85  0.2 PCT ANNUAL CHANCE FLOOD HAZARD     None       F     -9999.0   \n",
       "\n",
       "  V_DATUM   DEPTH LEN_UNIT  VELOCITY VEL_UNIT AR_REVERT  BFE_REVERT  \\\n",
       "0  NAVD88 -9999.0     FEET   -9999.0     None      None     -9999.0   \n",
       "1    None -9999.0     None   -9999.0     None      None     -9999.0   \n",
       "2    None -9999.0     None   -9999.0     None      None     -9999.0   \n",
       "3    None -9999.0     None   -9999.0     None      None     -9999.0   \n",
       "4    None -9999.0     None   -9999.0     None      None     -9999.0   \n",
       "\n",
       "   DEP_REVERT SOURCE_CIT                                           geometry  \n",
       "0     -9999.0     STUDY4  POLYGON ((1032001.691 263867.839, 1032006.047 ...  \n",
       "1     -9999.0     STUDY4  POLYGON ((1033748.952 263778.464, 1033752.656 ...  \n",
       "2     -9999.0     STUDY4  POLYGON ((1033309.701 263544.181, 1033322.210 ...  \n",
       "3     -9999.0     STUDY4  POLYGON ((1033414.148 262658.868, 1033414.934 ...  \n",
       "4     -9999.0     STUDY4  POLYGON ((1034089.115 262466.034, 1034089.402 ...  "
      ]
     },
     "execution_count": 42,
     "metadata": {},
     "output_type": "execute_result"
    }
   ],
   "source": [
    "# reading in shape file\n",
    "path = 'data/fema-pfirm.zip!s_fld_haz_ar.shp'\n",
    "pfirm_gdf = gpd.read_file(path)\n",
    "\n",
    "# previewing first five rows of data\n",
    "pfirm_gdf.head()"
   ]
  },
  {
   "cell_type": "code",
   "execution_count": 43,
   "metadata": {},
   "outputs": [
    {
     "data": {
      "text/plain": [
       "<AxesSubplot:>"
      ]
     },
     "execution_count": 43,
     "metadata": {},
     "output_type": "execute_result"
    },
    {
     "data": {
      "image/png": "[encoded data removed]",
      "text/plain": [
       "<Figure size 432x288 with 1 Axes>"
      ]
     },
     "metadata": {
      "needs_background": "light"
     },
     "output_type": "display_data"
    }
   ],
   "source": [
    "pfirm_gdf.plot()"
   ]
  },
  {
   "cell_type": "code",
   "execution_count": 44,
   "metadata": {},
   "outputs": [
    {
     "name": "stdout",
     "output_type": "stream",
     "text": [
      "fema-firm.zip         slr-rp100-y00.zip     stormwater-y00.zip\r\n",
      "fema-pfirm.zip        slr-rp100-y30.zip     stormwater-y30.zip\r\n",
      "hurricane-zones.zip   slr-rp500-y00.zip     stormwater-y60.zip\r\n",
      "sandy-inundation.zip  slr-rp500-y30.zip\r\n"
     ]
    }
   ],
   "source": [
    "# files in data folder\n",
    "%ls data/"
   ]
  },
  {
   "cell_type": "code",
   "execution_count": null,
   "metadata": {},
   "outputs": [],
   "source": []
  }
 ],
 "metadata": {
  "kernelspec": {
   "display_name": "Python 3 (ipykernel)",
   "language": "python",
   "name": "python3"
  },
  "language_info": {
   "codemirror_mode": {
    "name": "ipython",
    "version": 3
   },
   "file_extension": ".py",
   "mimetype": "text/x-python",
   "name": "python",
   "nbconvert_exporter": "python",
   "pygments_lexer": "ipython3",
   "version": "3.8.13"
  }
 },
 "nbformat": 4,
 "nbformat_minor": 4
}
